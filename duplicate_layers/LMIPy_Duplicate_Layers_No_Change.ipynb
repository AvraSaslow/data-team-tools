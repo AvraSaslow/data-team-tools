{
 "cells": [
  {
   "cell_type": "markdown",
   "metadata": {},
   "source": [
    "<h1>This tool allows you to duplicate a layer with a new name!</h1>"
   ]
  },
  {
   "cell_type": "code",
   "execution_count": null,
   "metadata": {},
   "outputs": [],
   "source": [
    "#Import necessary layers\n",
    "#!pip install LMIPy\n",
    "import LMIPy as lmi\n",
    "import os\n",
    "import json\n",
    "import geopandas as gpd\n",
    "from IPython.display import display\n",
    "from pprint import pprint\n",
    "from datetime import datetime\n",
    "import numpy as np\n",
    "import json"
   ]
  },
  {
   "cell_type": "markdown",
   "metadata": {},
   "source": [
    "<font color=red>**ACTION REQUIRED** <br>\n",
    "<font color=blue>**Enter your API Token Below**</font>"
   ]
  },
  {
   "cell_type": "code",
   "execution_count": null,
   "metadata": {},
   "outputs": [],
   "source": [
    "#API token needed to make changes\n",
    "API_TOKEN = ''\n"
   ]
  },
  {
   "cell_type": "markdown",
   "metadata": {},
   "source": [
    "<font color=red>**ACTION REQUIRED** <br>\n",
    "<font color=blue>**Enter your dataset ID below** <br>\n",
    "The dataset will be printed out below, then the first layer in the list of layers, followed by the number of layers in the dataset. We will duplicate the first layer.</font>"
   ]
  },
  {
   "cell_type": "code",
   "execution_count": null,
   "metadata": {},
   "outputs": [],
   "source": [
    "#Select Dataset and Layer to Clone, here we just chose the first layer\n",
    "dataset_id = '9e9a5c50-b825-4f12-838f-1650943c2be1' #NEEDS TO BE THE LONG ONE LIKE 6cfd6255-609e-4922-8709-5aaad0db9fae\n",
    "dataset = lmi.Dataset(dataset_id) #select the dataset by changing the ID\n",
    "long_dataset_id = dataset.id\n",
    "\n",
    "print('Dataset selected is below: ')\n",
    "display(dataset)\n",
    "\n",
    "layer_to_clone = dataset.layers[0]   #Chose the first layer\n",
    "\n",
    "print('First layer is below:')\n",
    "display(layer_to_clone)\n",
    "\n",
    "print(\"Number of layers in dataset: {}\".format(len(dataset.layers)))\n"
   ]
  },
  {
   "cell_type": "markdown",
   "metadata": {},
   "source": [
    "__________________________________________________________________________________________________________________\n",
    "<font color=blue>**Now we will get the attributes that need to change**<br>\n",
    "This includes the layer name, description, SQL statement, timeline order, timeline label, and interaction <br>\n",
    "We'll first print them out so you can see</font>"
   ]
  },
  {
   "cell_type": "code",
   "execution_count": null,
   "metadata": {},
   "outputs": [],
   "source": [
    "#Gathering the right attributes that need to change\n",
    "name = layer_to_clone.attributes['name']\n",
    "description = layer_to_clone.attributes['description']\n",
    "appConfig = layer_to_clone.attributes['layerConfig']\n",
    "\n",
    "\n",
    "\n",
    "try:\n",
    "    sql = appConfig['body']['layers'][0]['options']['sql']\n",
    "except: \n",
    "    sql = None\n",
    "    print('SQL not found')\n",
    "try:\n",
    "    order = str(appConfig['order'])\n",
    "except:\n",
    "    order = None\n",
    "    print('Order not found')\n",
    "try:\n",
    "    timeLineLabel = None\n",
    "    timeLineLabel = appConfig['timelineLabel']\n",
    "except:\n",
    "    print('Timeline not found')\n",
    "try:\n",
    "    interactionConfig = None\n",
    "    interactionConfig = layer_to_clone.attributes['interactionConfig']\n",
    "except:\n",
    "    print('Interaction not found')\n",
    "\n",
    "#Print them out\n",
    "print('Name: \\n{} \\n'.format(name))\n",
    "print('Description: \\n{} \\n'.format(description))\n",
    "print('SQL Statement: \\n{} \\n'.format(sql))\n",
    "print('Order Value: \\n{} \\n'.format(order))\n",
    "print('Timeline Label: \\n{} \\n'.format(timeLineLabel))\n",
    "print('Interaction Config: \\n{} \\n'.format(interactionConfig))"
   ]
  },
  {
   "cell_type": "markdown",
   "metadata": {},
   "source": [
    "<h1>Here we will replace the values in the attributes and decide what to loop over.</h1>"
   ]
  },
  {
   "cell_type": "markdown",
   "metadata": {},
   "source": [
    "<font color=red>**ACTION REQUIRED**</font> <br>\n",
    "<font color=blue>**Enter the text you would like to replace in the attributes above in the variable 'replace_string'** <br>\n",
    "**AND enter the list of values you'd like to replace the search string with in the variable 'loop_values'.**<br>\n",
    "The next cell will search for that string and replace it with a {} so it can be filled in later.<br>\n",
    "Then we will loop over the values in 'loop_values' and replace the {} in the attributes with the values.</font>"
   ]
  },
  {
   "cell_type": "code",
   "execution_count": null,
   "metadata": {},
   "outputs": [],
   "source": [
    "#Replace this value with the string you'd like to replace in the attributes\n",
    "\n",
    "new_name = name+'_copy'\n",
    "new_description = description\n",
    "new_sql = sql\n",
    "new_order = order\n",
    "new_timeLineLabel = timeLineLabel\n",
    "new_interactionConfig = interactionConfig"
   ]
  },
  {
   "cell_type": "markdown",
   "metadata": {},
   "source": [
    "<font color=blue>**Above are the values you entered. Double check that they look okay.**</font>"
   ]
  },
  {
   "cell_type": "markdown",
   "metadata": {},
   "source": [
    "<font color=blue>**Next we will print out the attributes after replacing the 'replace_string' with '{}'**</font>"
   ]
  },
  {
   "cell_type": "code",
   "execution_count": null,
   "metadata": {},
   "outputs": [],
   "source": [
    "#Print them out\n",
    "print('New Name: \\n{} \\n'.format(new_name))\n",
    "print('New Description: \\n{} \\n'.format(new_description))\n",
    "print('New SQL Statement: \\n{} \\n'.format(new_sql))\n",
    "print('New Order Value: \\n{} \\n'.format(new_order))\n",
    "print('New Timeline Label: \\n{} \\n'.format(new_timeLineLabel))\n",
    "print('New Interaction Config: \\n{} \\n'.format(new_interactionConfig))"
   ]
  },
  {
   "cell_type": "markdown",
   "metadata": {},
   "source": [
    "<font color=blue>**Check out the values above, do they look okay? If not you can manually replace the values above.**</font>"
   ]
  },
  {
   "cell_type": "code",
   "execution_count": null,
   "metadata": {},
   "outputs": [],
   "source": [
    "#If any of the variables above are not okay, replace it in the cell above"
   ]
  },
  {
   "cell_type": "markdown",
   "metadata": {},
   "source": [
    "<h1>Now we will create the new layer!</h1>"
   ]
  },
  {
   "cell_type": "markdown",
   "metadata": {},
   "source": [
    "<font color=blue>**When running the cell bellow, it sometimes returns an error that it times out, just run the cell again.**</font>"
   ]
  },
  {
   "cell_type": "code",
   "execution_count": null,
   "metadata": {
    "scrolled": true
   },
   "outputs": [],
   "source": [
    "#SOMETIMES WE GET AN ERROR THAT IT TIMES OUT, JUST RUN THE CELL AGAIN\n",
    "\n",
    "#Load in dataset again to have the most updated version\n",
    "dataset = lmi.Dataset(dataset_id)\n",
    "\n",
    "#Create dictionary with new layer name and description\n",
    "clone_attributes = {\n",
    "            'name': new_name,\n",
    "            'description': new_description,\n",
    "            'published':False\n",
    "}\n",
    "#Clone old layer with new name and description\n",
    "new_layer = layer_to_clone.clone(token=API_TOKEN, env='preproduction', layer_params=clone_attributes,\n",
    "                                 target_dataset_id=dataset_id)\n",
    "\n",
    "#Get current layer configuration\n",
    "appConfig = new_layer.attributes['layerConfig']\n",
    "#And replace with new values\n",
    "if new_sql:\n",
    "    appConfig['body']['layers'][0]['options']['sql'] = new_sql\n",
    "if new_order:\n",
    "    appConfig['order'] = new_order\n",
    "if new_timeLineLabel:\n",
    "    appConfig['timelineLabel'] = new_timeLineLabel  \n",
    "payload = {\n",
    "    'layerConfig': {\n",
    "        **appConfig\n",
    "    }\n",
    "}\n",
    "#Push updates to new layer\n",
    "new_layer = new_layer.update(update_params=payload, token=API_TOKEN)\n",
    "     \n",
    "    \n",
    "#Replace interaction config with new values\n",
    "payload = {\n",
    "    'interactionConfig': {\n",
    "        **new_interactionConfig\n",
    "        }\n",
    "}\n",
    "#Push update to layer\n",
    "new_layer = new_layer.update(update_params=payload, token=API_TOKEN)\n",
    "\n",
    "#Double check that we renamed the layer\n",
    "payload = {\n",
    "    'name': new_name,\n",
    "    'description': new_description\n",
    "    }\n",
    "new_layer = new_layer.update(update_params=payload, token=API_TOKEN)\n",
    "print('Success! Created new layer:')\n",
    "print(new_layer)\n",
    "        "
   ]
  },
  {
   "cell_type": "code",
   "execution_count": null,
   "metadata": {},
   "outputs": [],
   "source": []
  },
  {
   "cell_type": "code",
   "execution_count": null,
   "metadata": {},
   "outputs": [],
   "source": []
  },
  {
   "cell_type": "code",
   "execution_count": null,
   "metadata": {},
   "outputs": [],
   "source": []
  },
  {
   "cell_type": "code",
   "execution_count": null,
   "metadata": {},
   "outputs": [],
   "source": []
  },
  {
   "cell_type": "code",
   "execution_count": null,
   "metadata": {},
   "outputs": [],
   "source": []
  },
  {
   "cell_type": "code",
   "execution_count": null,
   "metadata": {},
   "outputs": [],
   "source": [
    "#Use this section to delete layers if they are stuck in staging or you want to bulk delete layers\n",
    "\n",
    "# #UNCOMMENT THIS IF YOU WANT TO DELETE A SPECIFIC LAYER\n",
    "# #Select layer by layer id:\n",
    "# layer = lmi.Layer('c3075c5a-5567-4b09-bc0d-96ed1673f8b6')\n",
    "# layer.delete(token=API_TOKEN)\n",
    "\n",
    "# #UNCOMMENT THIS SECTION IF YOU WANT TO DELETE ALL LAYERS EXCEPT THE FIRST ONE\n",
    "# #Enter dataset id (the long one)\n",
    "# dataset_id = 'e32bdaba-5a72-487c-b640-668adaea2976' #THIS NEEDS TO BE THE LONG STRING ONE\n",
    "# dataset = lmi.Dataset(dataset_id) \n",
    "# for i, layer in enumerate(dataset.layers):\n",
    "#     if i<len(dataset.layers)-1:\n",
    "#         display(layer)\n",
    "#         layer.delete(token=API_TOKEN)"
   ]
  },
  {
   "cell_type": "code",
   "execution_count": null,
   "metadata": {},
   "outputs": [],
   "source": []
  }
 ],
 "metadata": {
  "kernelspec": {
   "display_name": "Python 3",
   "language": "python",
   "name": "python3"
  },
  "language_info": {
   "codemirror_mode": {
    "name": "ipython",
    "version": 3
   },
   "file_extension": ".py",
   "mimetype": "text/x-python",
   "name": "python",
   "nbconvert_exporter": "python",
   "pygments_lexer": "ipython3",
   "version": "3.6.8"
  }
 },
 "nbformat": 4,
 "nbformat_minor": 2
}
