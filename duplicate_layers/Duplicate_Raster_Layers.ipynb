{
 "cells": [
  {
   "cell_type": "markdown",
   "metadata": {},
   "source": [
    "<h1>Welcome to the Resource Watch Duplicate Raster Layers Tool!</h1>"
   ]
  },
  {
   "cell_type": "code",
   "execution_count": null,
   "metadata": {},
   "outputs": [],
   "source": [
    "#Import necessary layers\n",
    "#!pip install LMIPy\n",
    "import LMIPy as lmi\n",
    "import os\n",
    "import json\n",
    "import geopandas as gpd\n",
    "from IPython.display import display\n",
    "from pprint import pprint\n",
    "from datetime import datetime\n",
    "import numpy as np\n",
    "import json"
   ]
  },
  {
   "cell_type": "markdown",
   "metadata": {},
   "source": [
    "<font color=red>**ACTION REQUIRED** <br>\n",
    "<font color=blue>**Enter your API Token Below**</font>"
   ]
  },
  {
   "cell_type": "code",
   "execution_count": null,
   "metadata": {},
   "outputs": [],
   "source": [
    "#API token needed to make changes\n",
    "API_TOKEN = os.getenv('RW_API_KEY')"
   ]
  },
  {
   "cell_type": "markdown",
   "metadata": {},
   "source": [
    "<font color=red>**ACTION REQUIRED** <br>\n",
    "<font color=blue>**Enter your dataset ID below** <br>\n",
    "The dataset will be printed out below, then the first layer in the list of layers, followed by the number of layers in the dataset. We will duplicate the first layer.</font>"
   ]
  },
  {
   "cell_type": "code",
   "execution_count": null,
   "metadata": {},
   "outputs": [],
   "source": [
    "#Select Dataset and Layer to Clone, here we just chose the first layer\n",
    "dataset_id = '' #NEEDS TO BE THE LONG ONE LIKE 6cfd6255-609e-4922-8709-5aaad0db9fae\n",
    "dataset = lmi.Dataset(dataset_id) #select the dataset by changing the ID\n",
    "long_dataset_id = dataset.id\n",
    "\n",
    "print('Dataset selected is below: ')\n",
    "display(dataset)\n",
    "\n",
    "layer_to_clone = dataset.layers[0]   #Chose the first layer\n",
    "\n",
    "print('First layer is below:')\n",
    "display(layer_to_clone)\n",
    "\n",
    "print(\"Number of layers in dataset: {}\".format(len(dataset.layers)))\n",
    "\n",
    "print(dataset.layers)\n"
   ]
  },
  {
   "cell_type": "markdown",
   "metadata": {},
   "source": [
    "__________________________________________________________________________________________________________________\n",
    "<font color=blue>**Now we will get the attributes that need to change**<br>\n",
    "This includes the layer name, description, SQL statement, timeline order, timeline label, and interaction <br>\n",
    "We'll first print them out so you can see\n",
    "\n",
    "**NOTE**: This code does not duplicate the raster interaction. Use the raster interaction form to do that.</font>"
   ]
  },
  {
   "cell_type": "code",
   "execution_count": null,
   "metadata": {},
   "outputs": [],
   "source": [
    "#Gathering the right attributes that need to change\n",
    "name = layer_to_clone.attributes['name']\n",
    "description = layer_to_clone.attributes['description']\n",
    "appConfig = layer_to_clone.attributes['layerConfig']\n",
    "assetId = appConfig['assetId']\n",
    "order = str(appConfig['order'])\n",
    "timeLineLabel = appConfig['timelineLabel']\n",
    "\n",
    "#Print them out\n",
    "print('Name: \\n{} \\n'.format(name))\n",
    "print('Description: \\n{} \\n'.format(description))\n",
    "print('Asset ID: \\n{} \\n'.format(assetId))\n",
    "print('Order Value: \\n{} \\n'.format(order))\n",
    "print('Timeline Label: \\n{} \\n'.format(timeLineLabel))\n"
   ]
  },
  {
   "cell_type": "markdown",
   "metadata": {},
   "source": [
    "<h1>Here we will replace the values in the attributes and decide what to loop over.</h1>"
   ]
  },
  {
   "cell_type": "markdown",
   "metadata": {},
   "source": [
    "<font color=red>**ACTION REQUIRED**</font> <br>\n",
    "<font color=blue>**Enter the text you would like to replace in the attributes above in the variable 'replace_string'** <br>\n",
    "**AND enter the list of values you'd like to replace the search string with in the variable 'loop_values'.**<br>\n",
    "The next cell will search for that string and replace it with a {} so it can be filled in later.<br>\n",
    "Then we will loop over the values in 'loop_values' and replace the {} in the attributes with the values.</font>"
   ]
  },
  {
   "cell_type": "code",
   "execution_count": null,
   "metadata": {},
   "outputs": [],
   "source": [
    "#Replace this value with the string you'd like to replace in the attributes\n",
    "replace_string = '2017' #e.g., 1990\n",
    "\n",
    "#Enter the list you want to loop over to create new layers\n",
    "loop_values = [1950]\n",
    "\n",
    "#Print out the values so you can double check them\n",
    "print('Replace String: {}'.format(replace_string))\n",
    "print('Loop values: {}'.format(loop_values))"
   ]
  },
  {
   "cell_type": "markdown",
   "metadata": {},
   "source": [
    "<font color=blue>**Above are the values you entered. Double check that they look okay.**</font>"
   ]
  },
  {
   "cell_type": "markdown",
   "metadata": {},
   "source": [
    "<font color=blue>**Next we will print out the attributes after replacing the 'replace_string' with '{}'**</font>"
   ]
  },
  {
   "cell_type": "code",
   "execution_count": null,
   "metadata": {},
   "outputs": [],
   "source": [
    "name_convention = name.replace(replace_string,'{}')\n",
    "description_convention = description.replace(replace_string,'{}')\n",
    "assetId_convention = assetId.replace(replace_string,'{}')\n",
    "order_convention = order.replace(replace_string,'{}')\n",
    "timeLineLabel_convention = timeLineLabel.replace(replace_string,'{}')\n",
    "\n",
    "print('Name: \\n{} \\n'.format(name_convention))\n",
    "print('Description: \\n{} \\n'.format(description_convention))\n",
    "print('assetId: \\n{} \\n'.format(assetId_convention))\n",
    "print('Order Value: \\n{} \\n'.format(order_convention))\n",
    "print('Timeline Label: \\n{} \\n'.format(timeLineLabel_convention))"
   ]
  },
  {
   "cell_type": "markdown",
   "metadata": {},
   "source": [
    "<font color=blue>**Check out the values above, do they look okay? The places with a '{}' will be replaced when we loop over the values in 'loop_values'**</font>"
   ]
  },
  {
   "cell_type": "code",
   "execution_count": null,
   "metadata": {},
   "outputs": [],
   "source": [
    "#If any of the variables above are not okay, replace it in this cell"
   ]
  },
  {
   "cell_type": "markdown",
   "metadata": {},
   "source": [
    "<h1>Now we will loop through and create new layers!</h1>"
   ]
  },
  {
   "cell_type": "markdown",
   "metadata": {},
   "source": [
    "<font color=blue>**The cell below loops through the values in 'loop_values' and replaces all of the {} with the value in each of the attributes. It will skip over a layer if a layer with that name already exists. When running the cell bellow, it sometimes returns an error that it times out, just run the cell again.**</font>"
   ]
  },
  {
   "cell_type": "code",
   "execution_count": null,
   "metadata": {
    "scrolled": true
   },
   "outputs": [],
   "source": [
    "#SOMETIMES WE GET AN ERROR THAT IT TIMES OUT, JUST RUN THE CELL AGAIN\n",
    "\n",
    "#Load in dataset again to have the most updated version\n",
    "dataset = lmi.Dataset(dataset_id)\n",
    "\n",
    "#Get the names of all the layers\n",
    "layers = dataset.layers\n",
    "layer_names = list(map(lambda x: x.attributes['name'], layers))\n",
    "\n",
    "#Loop over loop values\n",
    "for new_value in loop_values:\n",
    "    #Get layer name\n",
    "    new_layer_name = name_convention.replace('{}',str(new_value))  \n",
    "    \n",
    "    #Check that layer does not already exist\n",
    "    if new_layer_name not in layer_names:\n",
    "        \n",
    "        #If it doesn't, set the new values\n",
    "        new_description = description_convention.replace('{}',str(new_value))\n",
    "        new_assetId = assetId_convention.replace('{}',str(new_value))\n",
    "        new_timeline_label = timeLineLabel_convention.replace('{}',str(new_value))\n",
    "        try: \n",
    "            new_order = int(order_convention.replace('{}',str(new_value)))\n",
    "        except:\n",
    "            new_order = int(order)\n",
    "        \n",
    "        #Print those bad boys out\n",
    "        print('NEW LAYER NAME: \"{}\"'.format(new_layer_name))\n",
    "        print('New DESCRIPTION: \"{}\"'.format(new_description))\n",
    "        print('NEW ASSET ID: \"{}\"'.format(new_assetId))\n",
    "        print('NEW TIMELINE LABEL: \"{}\"'.format(new_timeline_label))\n",
    "        print('NEW ORDER VALUE: \"{}\"'.format(new_order))\n",
    "        \n",
    "        #Clone layer\n",
    "        clone_attributes = {\n",
    "            'name': new_layer_name,\n",
    "            'description': new_description\n",
    "            }\n",
    "        env = layer_to_clone.attributes['env']\n",
    "        new_layer = layer_to_clone.clone(token=API_TOKEN, env='production', layer_params=clone_attributes, \n",
    "                     target_dataset_id=dataset_id)\n",
    "        #Replace layer attributes with new values\n",
    "        appConfig = new_layer.attributes['layerConfig']\n",
    "        appConfig['assetId'] = new_assetId\n",
    "        appConfig['order'] = new_order\n",
    "        appConfig['timelineLabel'] = new_timeline_label\n",
    "        payload = {\n",
    "        'layerConfig': {\n",
    "            **appConfig\n",
    "            }\n",
    "        }\n",
    "        new_layer = new_layer.update(update_params=payload, token=API_TOKEN)\n",
    "        \n",
    "        #Replace layer name and description\n",
    "        payload = {\n",
    "            'name': new_layer_name,\n",
    "            'description': new_description\n",
    "        }\n",
    "        new_layer = new_layer.update(update_params=payload, token=API_TOKEN)\n",
    "        print(new_layer)\n",
    "        print('\\n')\n",
    "        \n",
    "    else:\n",
    "        print('Layer \"{}\" already exists!'.format(new_layer_name))\n",
    "        \n",
    "        \n",
    "        "
   ]
  },
  {
   "cell_type": "code",
   "execution_count": null,
   "metadata": {},
   "outputs": [],
   "source": []
  },
  {
   "cell_type": "code",
   "execution_count": null,
   "metadata": {},
   "outputs": [],
   "source": []
  },
  {
   "cell_type": "code",
   "execution_count": null,
   "metadata": {},
   "outputs": [],
   "source": []
  },
  {
   "cell_type": "code",
   "execution_count": null,
   "metadata": {},
   "outputs": [],
   "source": []
  },
  {
   "cell_type": "code",
   "execution_count": null,
   "metadata": {},
   "outputs": [],
   "source": []
  },
  {
   "cell_type": "code",
   "execution_count": null,
   "metadata": {},
   "outputs": [],
   "source": [
    "#Use this section to delete layers if they are stuck in staging or you want to bulk delete layers\n",
    "\n",
    "# #UNCOMMENT THIS IF YOU WANT TO DELETE A SPECIFIC LAYER\n",
    "# #Select layer by layer id:\n",
    "# layer = lmi.Layer('c3075c5a-5567-4b09-bc0d-96ed1673f8b6')\n",
    "# layer.delete(token=API_TOKEN)\n",
    "\n",
    "# #UNCOMMENT THIS SECTION IF YOU WANT TO DELETE ALL LAYERS EXCEPT THE FIRST ONE\n",
    "# #Enter dataset id (the long one)\n",
    "# dataset_id = 'e32bdaba-5a72-487c-b640-668adaea2976' #THIS NEEDS TO BE THE LONG STRING ONE\n",
    "# dataset = lmi.Dataset(dataset_id) \n",
    "# for i, layer in enumerate(dataset.layers):\n",
    "#     if i>0:\n",
    "#         display(layer)\n",
    "#         layer.delete(token=API_TOKEN)"
   ]
  },
  {
   "cell_type": "code",
   "execution_count": null,
   "metadata": {},
   "outputs": [],
   "source": []
  }
 ],
 "metadata": {
  "kernelspec": {
   "display_name": "Python 3",
   "language": "python",
   "name": "python3"
  },
  "language_info": {
   "codemirror_mode": {
    "name": "ipython",
    "version": 3
   },
   "file_extension": ".py",
   "mimetype": "text/x-python",
   "name": "python",
   "nbconvert_exporter": "python",
   "pygments_lexer": "ipython3",
   "version": "3.6.8"
  }
 },
 "nbformat": 4,
 "nbformat_minor": 2
}
