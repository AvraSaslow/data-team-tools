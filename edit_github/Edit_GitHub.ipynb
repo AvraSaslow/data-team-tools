{
 "cells": [
  {
   "cell_type": "markdown",
   "metadata": {},
   "source": [
    "<h1>Resource Watch GitHub Repo Editor Tool</h1>"
   ]
  },
  {
   "cell_type": "code",
   "execution_count": null,
   "metadata": {},
   "outputs": [],
   "source": [
    "# Import necessary modules\n",
    "# ! pip install PyGithub\n",
    "from github import Github\n",
    "import os\n",
    "import dotenv"
   ]
  },
  {
   "cell_type": "markdown",
   "metadata": {},
   "source": [
    "<font color=red>**ACTION REQUIRED** <br>\n",
    "<font color=blue>**Enter the path to your .env file below. There should be a GITHUB_TOKEN stored in the .env file that allows you to interact with the GitHub API. If you don't have one yet, go to this [this website](https://docs.github.com/en/free-pro-team@latest/github/authenticating-to-github/creating-a-personal-access-token) to create one**</font>"
   ]
  },
  {
   "cell_type": "code",
   "execution_count": null,
   "metadata": {},
   "outputs": [],
   "source": [
    "# insert the location of your .env file here:\n",
    "dotenv.load_dotenv('')\n",
    "\n",
    "# API token needed to make changes\n",
    "API_TOKEN = os.getenv('GITHUB_TOKEN')\n",
    "if API_TOKEN:\n",
    "    print('Your .env successfully loaded!')\n",
    "else:\n",
    "    print('Please check the path to your .env file and make sure you have a key called RW_API_KEY in your .env file.')"
   ]
  },
  {
   "cell_type": "markdown",
   "metadata": {},
   "source": [
    "<font color=red>**ACTION REQUIRED** <br>\n",
    "<font color=blue>**Enter the GitHub repo you want to edit** <br>\n",
    "Run the next cell to show the readme of the repo you have selected.</font>"
   ]
  },
  {
   "cell_type": "code",
   "execution_count": null,
   "metadata": {},
   "outputs": [],
   "source": [
    "# create a GitHub instance\n",
    "g = Github(API_TOKEN)\n",
    "# get the GitHub repo you want to make change to \n",
    "repo = g.get_repo('')\n",
    "# print the decoded readme of the selected repo \n",
    "print(repo.get_readme().decoded_content.decode('utf-8'))"
   ]
  },
  {
   "cell_type": "markdown",
   "metadata": {},
   "source": [
    "<font color=red>**ACTION REQUIRED** <br>\n",
    "<font color=blue>**Enter a name for the new branch you are creating for the edits** <br>\n",
    "Run the next cell to create a new branch based on the master branch.</font>"
   ]
  },
  {
   "cell_type": "code",
   "execution_count": null,
   "metadata": {},
   "outputs": [],
   "source": [
    "# name of the branch \n",
    "branch_name = ''\n",
    "# create a branch based on the master branch \n",
    "repo.create_git_ref(\n",
    "        'refs/heads/{branch_name}'.format(branch_name=branch_name),\n",
    "        repo.get_branch('master').commit.sha\n",
    "    )"
   ]
  },
  {
   "cell_type": "markdown",
   "metadata": {},
   "source": [
    "<font color=red>**ACTION REQUIRED** <br>\n",
    "<font color=blue>**Enter the type of the file you try to edit** <br>\n",
    "Run the next cell to find all the files of this file type.</font>"
   ]
  },
  {
   "cell_type": "code",
   "execution_count": null,
   "metadata": {},
   "outputs": [],
   "source": [
    "# choose the type of files you want to edit: make sure it's something you can use to isolate all and only the files \n",
    "# you want to edit; for example, for readme files the file_type should be 'README.md', for preprocessing scripts it should \n",
    "# be '_processing.py', and for util files it should be 'utils_'; Feel free to be creative \n",
    "file_type = \"\"\n",
    "# fetch all the content of the selected github repo\n",
    "contents = repo.get_contents(\"\", branch_name)\n",
    "# create an empty list to store all the files you can find\n",
    "files = []\n",
    "# loop through the directories in the github repo to search for files of this file type \n",
    "for content in contents: \n",
    "    # if it's a directory\n",
    "    if content.type == 'dir':\n",
    "        # go into the directory and put all its content into a list\n",
    "        file_paths = [file.path for file in repo.get_contents(content.path, branch_name)]\n",
    "        # loop through the list of content and store any file of our selected file type to the list created\n",
    "        for file_path in file_paths:\n",
    "            # if the specified file type is part of the file path\n",
    "            if file_type in file_path:\n",
    "                # print the file path and add it to the list of files you will edit \n",
    "                print(file_path)\n",
    "                files.append(repo.get_contents(file_path, branch_name))"
   ]
  },
  {
   "cell_type": "markdown",
   "metadata": {},
   "source": [
    "<font color=blue>Run the next cell to view the content that you may want to change.<br>\n",
    "We will print the first file of the selected file type to use as an example.</font>"
   ]
  },
  {
   "cell_type": "code",
   "execution_count": null,
   "metadata": {},
   "outputs": [],
   "source": [
    "# get the first file in the list as an example file \n",
    "file = files[0]\n",
    "# print the path to the file\n",
    "print('path to file: \\n{} \\n'.format(file.path))\n",
    "# content of the file \n",
    "ex_content = file.decoded_content.decode('utf-8')\n",
    "print('content of file: \\n{} \\n'.format(ex_content))"
   ]
  },
  {
   "cell_type": "markdown",
   "metadata": {},
   "source": [
    "<h1>Define our replacement.</h1>"
   ]
  },
  {
   "cell_type": "markdown",
   "metadata": {},
   "source": [
    "<font color=red>**ACTION REQUIRED**</font> <br>\n",
    "<font color=blue>**Enter the text/code you would like to edit (from those printed above) and the replacement**"
   ]
  },
  {
   "cell_type": "code",
   "execution_count": null,
   "metadata": {},
   "outputs": [],
   "source": [
    "# string that needs to be replaced (I am using triple quotes here in case the code/text is split across multiple lines)\n",
    "ex_text = ''''''\n",
    "# replacement string \n",
    "replacement_text = ''''''"
   ]
  },
  {
   "cell_type": "markdown",
   "metadata": {},
   "source": [
    "<font color=red>**ACTION REQUIRED**</font> <br>\n",
    "<font color=blue>**Run this cell and make sure that the replacement text/code (printed below) looks ok for the example file.**"
   ]
  },
  {
   "cell_type": "code",
   "execution_count": null,
   "metadata": {},
   "outputs": [],
   "source": [
    "# the edited content of the file\n",
    "updated_content = ex_content.replace(ex_text, replacement_text)\n",
    "print(f'\\nUpdated content:\\n{updated_content}')"
   ]
  },
  {
   "cell_type": "markdown",
   "metadata": {},
   "source": [
    "<h1>Loop through all files and make the edits.</h1>"
   ]
  },
  {
   "cell_type": "markdown",
   "metadata": {},
   "source": [
    "<font color=red>**ACTION REQUIRED**</font> <br>\n",
    "<font color=blue>**Create an informative message for the commits. The cell below loops through the list of files we found and replaces the selected text/code with your replacement.**</font>"
   ]
  },
  {
   "cell_type": "markdown",
   "metadata": {},
   "source": [
    "<font color=red>***WARNING***</font> <br>\n",
    "<font color=RED>***MAKE SURE YOU ARE MAKING EDITS TO THE BRANCH YOU JUST CREATED INSTEAD OF THE MASTER BRANCH. I REPEAT: DON'T EDIT THE MASTER BRANCH DIRECTLY***</font>"
   ]
  },
  {
   "cell_type": "code",
   "execution_count": null,
   "metadata": {},
   "outputs": [],
   "source": [
    "# a message that summarizes what you are changing\n",
    "message = ''\n",
    "# for each file in the list of files you want to edit\n",
    "for file in files:\n",
    "    # first fetch the decoded content of the file\n",
    "    file_content = file.decoded_content.decode('utf-8')\n",
    "    # then update the file on the branch created previously\n",
    "    repo.update_file(file.path, message, file_content.replace(ex_text, replacement_text), file.sha, branch=branch_name)"
   ]
  },
  {
   "cell_type": "markdown",
   "metadata": {},
   "source": [
    "<font color=red>**ACTION REQUIRED**</font> <br>\n",
    "<font color=blue>**Include a title and a summary of the changes you've made on the branch for a pull request. The cell below creates a pull request to merge your branch to the master branch.**</font>"
   ]
  },
  {
   "cell_type": "code",
   "execution_count": null,
   "metadata": {},
   "outputs": [],
   "source": [
    "# the title of the pull request\n",
    "title = ''\n",
    "# the body of the pull request \n",
    "body = ''\n",
    "# create a pull request\n",
    "pr = repo.create_pull(title=title, body=body, head=branch_name, base=\"master\")"
   ]
  },
  {
   "cell_type": "markdown",
   "metadata": {},
   "source": [
    "<font color=red>**ACTION REQUIRED**</font> <br>\n",
    "<font color=blue>**Go to the GitHub repo online to check the pull request you just submitted. Request a reviewer if necessary.**</font>"
   ]
  }
 ],
 "metadata": {
  "kernelspec": {
   "display_name": "Python 3",
   "language": "python",
   "name": "python3"
  },
  "language_info": {
   "codemirror_mode": {
    "name": "ipython",
    "version": 3
   },
   "file_extension": ".py",
   "mimetype": "text/x-python",
   "name": "python",
   "nbconvert_exporter": "python",
   "pygments_lexer": "ipython3",
   "version": "3.7.7"
  }
 },
 "nbformat": 4,
 "nbformat_minor": 4
}
