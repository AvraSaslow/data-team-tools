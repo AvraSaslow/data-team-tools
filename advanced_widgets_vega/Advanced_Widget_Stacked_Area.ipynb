{
 "cells": [
  {
   "cell_type": "markdown",
   "metadata": {},
   "source": [
    "# Simple Stacked Area Chart\n"
   ]
  },
  {
   "cell_type": "code",
   "execution_count": 2,
   "metadata": {},
   "outputs": [],
   "source": [
    "import altair as alt\n",
    "import ipywidgets as widgets\n",
    "from ipywidgets import interactive, interact, HBox, Layout, VBox, interact_manual\n",
    "from IPython.display import display\n",
    "import requests \n",
    "import pandas as pd\n",
    "import json"
   ]
  },
  {
   "cell_type": "markdown",
   "metadata": {},
   "source": [
    "### Fetch and examine data"
   ]
  },
  {
   "cell_type": "code",
   "execution_count": 7,
   "metadata": {},
   "outputs": [],
   "source": [
    "# replace the url with the url to your data\n",
    "#url = \"https://wri-rw.carto.com/api/v2/sql?q=SELECT origin AS c, date::text AS x, total AS y FROM blog_002a_asylum_requests_country_of_origin WHERE origin IN ('Mexico','Guatemala','China','El Salvador','Honduras','Haiti','India','Colombia', 'Ecuador','Venezuela (Bolivarian Republic of)') AND EXTRACT(YEAR FROM date) < 2018 ORDER BY origin ASC, date ASC\"\n",
    "#url = \"https://wri-rw.carto.com/api/v2/sql?q=SELECT year AS x, value AS y, production_or_use AS c FROM foo_050_fish_capture_and_production WHERE production_or_use IN ('Inland Aquaculture','Marine Aquaculture','Inland Capture','Marine Capture') ORDER BY year ASC, production_or_use!='Marine Capture', production_or_use!='Inland Capture', production_or_use!='Marine Aquaculture', production_or_use!='Inland Aquaculture'\"\n",
    "url = \"https://wri-rw.carto.com/api/v2/sql?q=SELECT datetime as x, yr_data AS y, sector AS c FROM cli_049_rw1_dash_pik_historical_emissions_edit WHERE sector NOT ILIKE 'Total excluding LULUCF'\""
   ]
  },
  {
   "cell_type": "code",
   "execution_count": 18,
   "metadata": {},
   "outputs": [
    {
     "data": {
      "text/html": [
       "<div>\n",
       "<style scoped>\n",
       "    .dataframe tbody tr th:only-of-type {\n",
       "        vertical-align: middle;\n",
       "    }\n",
       "\n",
       "    .dataframe tbody tr th {\n",
       "        vertical-align: top;\n",
       "    }\n",
       "\n",
       "    .dataframe thead th {\n",
       "        text-align: right;\n",
       "    }\n",
       "</style>\n",
       "<table border=\"1\" class=\"dataframe\">\n",
       "  <thead>\n",
       "    <tr style=\"text-align: right;\">\n",
       "      <th></th>\n",
       "      <th>c</th>\n",
       "      <th>x</th>\n",
       "      <th>y</th>\n",
       "    </tr>\n",
       "  </thead>\n",
       "  <tbody>\n",
       "    <tr>\n",
       "      <th>0</th>\n",
       "      <td>Agriculture</td>\n",
       "      <td>1850-01-01T00:00:00Z</td>\n",
       "      <td>536.080</td>\n",
       "    </tr>\n",
       "    <tr>\n",
       "      <th>1</th>\n",
       "      <td>Agriculture</td>\n",
       "      <td>1851-01-01T00:00:00Z</td>\n",
       "      <td>553.183</td>\n",
       "    </tr>\n",
       "    <tr>\n",
       "      <th>2</th>\n",
       "      <td>Agriculture</td>\n",
       "      <td>1852-01-01T00:00:00Z</td>\n",
       "      <td>569.999</td>\n",
       "    </tr>\n",
       "    <tr>\n",
       "      <th>3</th>\n",
       "      <td>Agriculture</td>\n",
       "      <td>1853-01-01T00:00:00Z</td>\n",
       "      <td>586.810</td>\n",
       "    </tr>\n",
       "    <tr>\n",
       "      <th>4</th>\n",
       "      <td>Agriculture</td>\n",
       "      <td>1854-01-01T00:00:00Z</td>\n",
       "      <td>603.651</td>\n",
       "    </tr>\n",
       "  </tbody>\n",
       "</table>\n",
       "</div>"
      ],
      "text/plain": [
       "             c                     x        y\n",
       "0  Agriculture  1850-01-01T00:00:00Z  536.080\n",
       "1  Agriculture  1851-01-01T00:00:00Z  553.183\n",
       "2  Agriculture  1852-01-01T00:00:00Z  569.999\n",
       "3  Agriculture  1853-01-01T00:00:00Z  586.810\n",
       "4  Agriculture  1854-01-01T00:00:00Z  603.651"
      ]
     },
     "execution_count": 18,
     "metadata": {},
     "output_type": "execute_result"
    }
   ],
   "source": [
    "# fetch and examine the data as a pandas dataframe \n",
    "r = requests.get(url)\n",
    "df = pd.DataFrame(json.loads(r.content)['rows'])\n",
    "df.head()"
   ]
  },
  {
   "cell_type": "code",
   "execution_count": 19,
   "metadata": {},
   "outputs": [],
   "source": [
    "# if the data looks good, create an altair.UrlData object from the url \n",
    "data = alt.UrlData(url, format = alt.JsonDataFormat(property='rows'))"
   ]
  },
  {
   "cell_type": "markdown",
   "metadata": {},
   "source": [
    "### Visualize data in a stacked area chart "
   ]
  },
  {
   "cell_type": "code",
   "execution_count": 20,
   "metadata": {},
   "outputs": [],
   "source": [
    "# define the function that creates the stacked area chart \n",
    "def make_stacked_area_chart(x_label, x_variable, x_datatype, x_zero, x_grid, x_format, x_transform, x_tooltip_label, x_tooltip_format, \n",
    "                            y_label, y_variable, y_datatype,  y_zero, y_grid, y_format, y_transform, y_tooltip_label, y_tooltip_format,\n",
    "                           c_label, c_variable, c_datatype, c_tooltip_label, c_tooltip_format,\n",
    "                           fold_transform):\n",
    "    \n",
    "    chart = alt.Chart(data).mark_area().encode(\n",
    "        x=alt.X(\"{}:{}\".format(x_variable, x_datatype), axis=alt.Axis(title=x_label, grid=x_grid, format=x_format), scale=alt.Scale(zero=x_zero)),\n",
    "        y=alt.Y(\"{}:{}\".format(y_variable, y_datatype), axis=alt.Axis(title=y_label, grid=y_grid, format=y_format), scale=alt.Scale(zero=y_zero)),\n",
    "        color=alt.Color(\"{}:{}\".format(c_variable, c_datatype), legend=alt.Legend(title=c_label)),\n",
    "        tooltip=[alt.Tooltip(\"{}:{}\".format(x_variable, x_datatype), title=x_tooltip_label, format=x_tooltip_format),\n",
    "            alt.Tooltip(\"{}:{}\".format(y_variable, y_datatype), title=y_tooltip_label, format=y_tooltip_format),\n",
    "            alt.Tooltip(\"{}:{}\".format(c_variable, c_datatype), title=c_tooltip_label, format=c_tooltip_format)]\n",
    "           ).properties(\n",
    "        width=800,\n",
    "        height=500)\n",
    "    \n",
    "    if x_transform:\n",
    "        chart = chart.transform_calculate(x=x_transform)\n",
    "    \n",
    "    if y_transform:\n",
    "        chart = chart.transform_calculate(y=y_transform)\n",
    "        \n",
    "    if fold_transform != 'None': \n",
    "        chart = chart.transform_fold(fold_transform)\n",
    "        \n",
    "    display(chart)\n",
    "    \n",
    "    return chart"
   ]
  },
  {
   "cell_type": "code",
   "execution_count": 21,
   "metadata": {
    "scrolled": false
   },
   "outputs": [
    {
     "data": {
      "application/vnd.jupyter.widget-view+json": {
       "model_id": "4dcc0b79b4ae4217a2a91b7e039a926a",
       "version_major": 2,
       "version_minor": 0
      },
      "text/plain": [
       "HBox(children=(Output(), Output(), Output()))"
      ]
     },
     "metadata": {},
     "output_type": "display_data"
    },
    {
     "data": {
      "application/vnd.jupyter.widget-view+json": {
       "model_id": "1c56d68c5f824db5b8a225c518e21279",
       "version_major": 2,
       "version_minor": 0
      },
      "text/plain": [
       "VBox(children=(Output(),))"
      ]
     },
     "metadata": {},
     "output_type": "display_data"
    }
   ],
   "source": [
    "# create the chart using ipywidgets \n",
    "children = [widgets.Output() for _ in range(4)]\n",
    "control = widgets.HBox(children[:-1]) \n",
    "display(control)\n",
    "output = widgets.VBox([children[-1]])\n",
    "display(output)\n",
    "\n",
    "w = interactive(make_stacked_area_chart,  \n",
    "             {'manual': True},\n",
    "             x_label = 'Year', x_variable = 'year(x)', x_datatype = ['T', 'O', 'N', 'Q', 'G'],  x_zero=False,\n",
    "                x_grid=False, x_format = '', x_transform = '', x_tooltip_label='Year', x_tooltip_format='',\n",
    "             y_label = 'Greenhouse Gas Emissions (tonnes CO2e)', y_variable ='y', y_datatype = ['Q', 'O', 'N', 'T', 'G'], y_zero=False,\n",
    "                y_grid=True, y_format = 's', y_transform = 'datum.y*1000000', y_tooltip_label='Emissions (tonnes CO2e)', y_tooltip_format='.3s',\n",
    "             c_label = 'Sector', c_variable = 'c', c_datatype = ['N', 'O', 'Q', 'T', 'G'], c_tooltip_label='Sector', c_tooltip_format='',\n",
    "               fold_transform=widgets.SelectMultiple(options = list(df) + [None]))\n",
    "    \n",
    "with children[0]:\n",
    "    display(VBox(w.children[:9]))\n",
    "    \n",
    "with children[1]:\n",
    "    display(VBox(w.children[9:18]))\n",
    "    \n",
    "with children[2]:\n",
    "    display(VBox(w.children[18:-1]))\n",
    "    \n",
    "with children[3]:\n",
    "    display(w.children[-1])\n",
    "\n",
    "# For data types, refer to the documentation at https://altair-viz.github.io/user_guide/encoding.html#encoding-data-types\n",
    "# The make_stacked_area_chart function only includes transform_calculate and fold_transform for now\n",
    "# To add more transformations, refer to the documentation at https://altair-viz.github.io/user_guide/transform/index.html\n",
    "# After filling in all the parameters, click the 'Run Interact' button. An empty chart indicates an error has occurred. \n",
    "# In that case, please double check if x_variable, y_variable, and c_variable have been set to the correct values. "
   ]
  }
 ],
 "metadata": {
  "kernelspec": {
   "display_name": "Python 3",
   "language": "python",
   "name": "python3"
  },
  "language_info": {
   "codemirror_mode": {
    "name": "ipython",
    "version": 3
   },
   "file_extension": ".py",
   "mimetype": "text/x-python",
   "name": "python",
   "nbconvert_exporter": "python",
   "pygments_lexer": "ipython3",
   "version": "3.7.7"
  }
 },
 "nbformat": 4,
 "nbformat_minor": 4
}
