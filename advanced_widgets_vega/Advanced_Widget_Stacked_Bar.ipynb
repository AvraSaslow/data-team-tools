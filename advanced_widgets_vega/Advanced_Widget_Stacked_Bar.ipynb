{
 "cells": [
  {
   "cell_type": "markdown",
   "metadata": {},
   "source": [
    "# Simple Stacked Bar Chart\n"
   ]
  },
  {
   "cell_type": "code",
   "execution_count": 1,
   "metadata": {},
   "outputs": [],
   "source": [
    "import altair as alt\n",
    "import ipywidgets as widgets\n",
    "from ipywidgets import interactive, interact, HBox, Layout, VBox, interact_manual\n",
    "from IPython.display import display\n",
    "import requests \n",
    "import pandas as pd\n",
    "import json"
   ]
  },
  {
   "cell_type": "markdown",
   "metadata": {},
   "source": [
    "### Fetch and examine data"
   ]
  },
  {
   "cell_type": "code",
   "execution_count": 2,
   "metadata": {},
   "outputs": [],
   "source": [
    "# replace the url with the url to your data\n",
    "url = \"https://wri-rw.carto.com/api/v2/sql?q=SELECT data.incomegroup AS x, SUM(data.rural_population_data) AS rural_population, SUM(data.urban_population_data) AS urban_population FROM cli_022_populations_in_coastal_zones data WHERE EXTRACT(YEAR FROM datetime)=2010 GROUP BY data.incomegroup ORDER BY incomegroup!='Low income',incomegroup!='Lower middle income',incomegroup!='Upper middle income',incomegroup!='High income: OECD',incomegroup!='High income: nonOECD',incomegroup!='Not classified'\""
   ]
  },
  {
   "cell_type": "code",
   "execution_count": 3,
   "metadata": {},
   "outputs": [
    {
     "data": {
      "text/html": [
       "<div>\n",
       "<style scoped>\n",
       "    .dataframe tbody tr th:only-of-type {\n",
       "        vertical-align: middle;\n",
       "    }\n",
       "\n",
       "    .dataframe tbody tr th {\n",
       "        vertical-align: top;\n",
       "    }\n",
       "\n",
       "    .dataframe thead th {\n",
       "        text-align: right;\n",
       "    }\n",
       "</style>\n",
       "<table border=\"1\" class=\"dataframe\">\n",
       "  <thead>\n",
       "    <tr style=\"text-align: right;\">\n",
       "      <th></th>\n",
       "      <th>rural_population</th>\n",
       "      <th>urban_population</th>\n",
       "      <th>x</th>\n",
       "    </tr>\n",
       "  </thead>\n",
       "  <tbody>\n",
       "    <tr>\n",
       "      <th>0</th>\n",
       "      <td>140305790</td>\n",
       "      <td>63704774</td>\n",
       "      <td>Low income</td>\n",
       "    </tr>\n",
       "    <tr>\n",
       "      <th>1</th>\n",
       "      <td>544262407</td>\n",
       "      <td>368219316</td>\n",
       "      <td>Lower middle income</td>\n",
       "    </tr>\n",
       "    <tr>\n",
       "      <th>2</th>\n",
       "      <td>263456410</td>\n",
       "      <td>475137021</td>\n",
       "      <td>Upper middle income</td>\n",
       "    </tr>\n",
       "    <tr>\n",
       "      <th>3</th>\n",
       "      <td>107986538</td>\n",
       "      <td>483357900</td>\n",
       "      <td>High income: OECD</td>\n",
       "    </tr>\n",
       "    <tr>\n",
       "      <th>4</th>\n",
       "      <td>7309801</td>\n",
       "      <td>39251090</td>\n",
       "      <td>High income: nonOECD</td>\n",
       "    </tr>\n",
       "  </tbody>\n",
       "</table>\n",
       "</div>"
      ],
      "text/plain": [
       "   rural_population  urban_population                     x\n",
       "0         140305790          63704774            Low income\n",
       "1         544262407         368219316   Lower middle income\n",
       "2         263456410         475137021   Upper middle income\n",
       "3         107986538         483357900     High income: OECD\n",
       "4           7309801          39251090  High income: nonOECD"
      ]
     },
     "execution_count": 3,
     "metadata": {},
     "output_type": "execute_result"
    }
   ],
   "source": [
    "# fetch and examine the data as a pandas dataframe \n",
    "r = requests.get(url)\n",
    "df = pd.DataFrame(json.loads(r.content)['rows'])\n",
    "df.head()"
   ]
  },
  {
   "cell_type": "code",
   "execution_count": 4,
   "metadata": {},
   "outputs": [],
   "source": [
    "# if the data looks good, create an altair.UrlData object from the url \n",
    "data = alt.UrlData(url, format = alt.JsonDataFormat(property='rows'))"
   ]
  },
  {
   "cell_type": "markdown",
   "metadata": {},
   "source": [
    "### Visualize data in a stacked bar chart "
   ]
  },
  {
   "cell_type": "code",
   "execution_count": 11,
   "metadata": {},
   "outputs": [],
   "source": [
    "# define the function that creates the stacked bar chart \n",
    "def make_stacked_bar_chart(x_label, x_variable, x_datatype, x_zero, x_grid, x_format, x_transform, x_tooltip_label, x_tooltip_format, \n",
    "                            y_label, y_variable, y_datatype,  y_zero, y_grid, y_format, y_transform, y_tooltip_label, y_tooltip_format,\n",
    "                           c_label, c_variable, c_datatype, c_tooltip_label, c_tooltip_format,\n",
    "                          fold_transform):\n",
    "    \n",
    "    chart = alt.Chart(data).mark_bar().encode(\n",
    "        x=alt.X(\"{}:{}\".format(x_variable, x_datatype), axis=alt.Axis(title=x_label, grid=x_grid, format=x_format, labelAngle=-45), scale=alt.Scale(zero=x_zero)),\n",
    "        y=alt.Y(\"{}:{}\".format(y_variable, y_datatype), axis=alt.Axis(title=y_label, grid=y_grid, format=y_format), scale=alt.Scale(zero=y_zero)),\n",
    "        color=alt.Color(\"{}:{}\".format(c_variable, c_datatype), legend=alt.Legend(title=c_label)),\n",
    "        tooltip=[alt.Tooltip(\"{}:{}\".format(x_variable, x_datatype), title=x_tooltip_label, format=x_tooltip_format),\n",
    "            alt.Tooltip(\"{}:{}\".format(y_variable, y_datatype), title=y_tooltip_label, format=y_tooltip_format),\n",
    "            alt.Tooltip(\"{}:{}\".format(c_variable, c_datatype), title=c_tooltip_label, format=c_tooltip_format)]\n",
    "           ).properties(\n",
    "        width=800,\n",
    "        height=500)\n",
    "    \n",
    "    if x_transform:\n",
    "        chart = chart.transform_calculate(x=x_transform)\n",
    "    \n",
    "    if y_transform:\n",
    "        chart = chart.transform_calculate(y=y_transform)\n",
    "        \n",
    "    if fold_transform != 'None': \n",
    "        chart = chart.transform_fold(fold_transform)\n",
    "    \n",
    "    display(chart)\n",
    "    \n",
    "    return chart"
   ]
  },
  {
   "cell_type": "code",
   "execution_count": 12,
   "metadata": {
    "scrolled": false
   },
   "outputs": [
    {
     "data": {
      "application/vnd.jupyter.widget-view+json": {
       "model_id": "9729a6b9256842f1bac48dc3479f6a86",
       "version_major": 2,
       "version_minor": 0
      },
      "text/plain": [
       "HBox(children=(Output(), Output(), Output()))"
      ]
     },
     "metadata": {},
     "output_type": "display_data"
    },
    {
     "data": {
      "application/vnd.jupyter.widget-view+json": {
       "model_id": "dbb399e0b847446b82f1deeda5b854c2",
       "version_major": 2,
       "version_minor": 0
      },
      "text/plain": [
       "VBox(children=(Output(),))"
      ]
     },
     "metadata": {},
     "output_type": "display_data"
    }
   ],
   "source": [
    "# create the chart using ipywidgets \n",
    "children = [widgets.Output() for _ in range(4)]\n",
    "control = widgets.HBox(children[:-1]) \n",
    "display(control)\n",
    "output = widgets.VBox([children[-1]])\n",
    "display(output)\n",
    "\n",
    "w = interactive(make_stacked_bar_chart,  \n",
    "             {'manual': True},\n",
    "             x_label = '', x_variable = 'x', x_datatype = ['N', 'O', 'T', 'Q', 'G'],  x_zero=False, \n",
    "                x_grid=False, x_format = '', x_transform = '', x_tooltip_label='Income Group', x_tooltip_format='',\n",
    "             y_label = 'Coastal Population', y_variable ='value', y_datatype = ['Q', 'O', 'N', 'T', 'G'], y_zero=False,\n",
    "                y_grid=True, y_format = '.1s', y_transform = '', y_tooltip_label='Population', y_tooltip_format='.2s',\n",
    "             c_label = 'Segment', c_variable = 'key', c_datatype = ['N', 'O', 'Q', 'T', 'G'], c_tooltip_label='Segment', c_tooltip_format='',\n",
    "               fold_transform=widgets.SelectMultiple(options = list(df) + [None]))\n",
    "    \n",
    "with children[0]:\n",
    "    display(VBox(w.children[:9]))\n",
    "    \n",
    "with children[1]:\n",
    "    display(VBox(w.children[9:18]))\n",
    "    \n",
    "with children[2]:\n",
    "    display(VBox(w.children[18:-1]))\n",
    "    \n",
    "with children[3]:\n",
    "    display(w.children[-1])\n",
    "\n",
    "# For data types, refer to the documentation at https://altair-viz.github.io/user_guide/encoding.html#encoding-data-types\n",
    "# The make_stacked_bar_chart function only includes transform_calculate and fold_transform for now\n",
    "# To add more transformations, refer to the documentation at https://altair-viz.github.io/user_guide/transform/index.html\n",
    "# After filling in all the parameters, click the 'Run Interact' button. An empty chart indicates an error has occurred. \n",
    "# In that case, please double check if x_variable, y_variable, and c_variable have been set to the correct values. "
   ]
  }
 ],
 "metadata": {
  "kernelspec": {
   "display_name": "Python 3",
   "language": "python",
   "name": "python3"
  },
  "language_info": {
   "codemirror_mode": {
    "name": "ipython",
    "version": 3
   },
   "file_extension": ".py",
   "mimetype": "text/x-python",
   "name": "python",
   "nbconvert_exporter": "python",
   "pygments_lexer": "ipython3",
   "version": "3.7.7"
  }
 },
 "nbformat": 4,
 "nbformat_minor": 4
}
