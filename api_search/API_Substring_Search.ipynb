{
 "cells": [
  {
   "cell_type": "code",
   "execution_count": 1,
   "metadata": {},
   "outputs": [],
   "source": [
    "import json\n",
    "import os\n",
    "import requests\n",
    "import datetime\n",
    "import numpy as np\n",
    "import pandas as pd\n",
    "import glob"
   ]
  },
  {
   "cell_type": "code",
   "execution_count": 2,
   "metadata": {},
   "outputs": [],
   "source": [
    "# Set target directory of logged API json files, will create new one if it does not exist\n",
    "data_dir = 'rw_api_archive'\n",
    "if not os.path.exists(data_dir):\n",
    "    os.mkdir(data_dir)"
   ]
  },
  {
   "cell_type": "code",
   "execution_count": 3,
   "metadata": {},
   "outputs": [
    {
     "name": "stdout",
     "output_type": "stream",
     "text": [
      "Received 0.12 MB gzip file in 791 ms for dataset endpoint\n",
      "Received 0.95 MB gzip file in 2717 ms for layer endpoint\n",
      "Received 0.84 MB gzip file in 2538 ms for widget endpoint\n"
     ]
    }
   ],
   "source": [
    "# Download a copy of RW dataset, layer, and widget endpoints. Note 'env' and 'application' params in URL string\n",
    "api_list = ['dataset','layer','widget']\n",
    "\n",
    "for endpoint in api_list:\n",
    "    url = f'http://api.resourcewatch.org/v1/{endpoint}?page[size]=10000&env=production&application=rw'\n",
    "    r = requests.get(url)\n",
    "    if r.status_code == 200:\n",
    "        data = r.json()['data']\n",
    "        mb = round(float(r.headers['content-length'])/1e6, 2)\n",
    "    \n",
    "        print(f\"Received {mb} MB\",r.headers['Content-Encoding'], \"file in\",\n",
    "              r.headers['X-Response-Time'],f\"for {endpoint} endpoint\")\n",
    "        d8 = datetime.datetime.now().strftime(\"%Y-%m-%d-%H%M%S\")\n",
    "        with open(f'{data_dir}/{endpoint}_{d8}.json', 'w') as fp: #<-- ASSUMES DIRECTORY\n",
    "            json.dump(data, fp)\n",
    "    else:\n",
    "        print(f\"Error retrieving {endpoint} API endpoint\")"
   ]
  },
  {
   "cell_type": "code",
   "execution_count": 4,
   "metadata": {},
   "outputs": [],
   "source": [
    "# select filename of most recent matching json files in target directory and load as json\n",
    "recent_dataset_dl = max(glob.iglob(f'{data_dir}/datas*.json'), key=os.path.getctime)\n",
    "recent_layer_dl = max(glob.iglob(f'{data_dir}/layer*.json'), key=os.path.getctime)\n",
    "recent_widget_dl = max(glob.iglob(f'{data_dir}/widge*.json'), key=os.path.getctime)\n",
    "\n",
    "with open(recent_dataset_dl) as json_file:\n",
    "    rw_dataset_data = json.load(json_file)\n",
    "    \n",
    "with open(recent_layer_dl) as json_file:\n",
    "    rw_layer_data = json.load(json_file)\n",
    "    \n",
    "with open(recent_widget_dl) as json_file:\n",
    "    rw_widget_data = json.load(json_file)"
   ]
  },
  {
   "cell_type": "code",
   "execution_count": 5,
   "metadata": {},
   "outputs": [],
   "source": [
    "# Set substring, will search for string across all json objects\n",
    "subs = 'ene_028_access_clean_cooking' #<-- SET SUBSTRING HERE\n",
    "layers_using = [x for x in rw_layer_data if str(x).count(subs) != 0] \n",
    "widgets_using = [x for x in rw_widget_data if str(x).count(subs) != 0] \n",
    "datasets_using = [x for x in rw_dataset_data if str(x).count(subs) != 0] "
   ]
  },
  {
   "cell_type": "code",
   "execution_count": 6,
   "metadata": {},
   "outputs": [
    {
     "name": "stdout",
     "output_type": "stream",
     "text": [
      "ene_028_access_clean_cooking\n",
      "datasets\n",
      "c665f519-eef9-4f67-a8bf-7e3e6dc8bfcd\n",
      "layers\n",
      "95ecdbc7-be90-4c45-9c64-522a5b2e32e6\n",
      "9e9f1761-17be-472b-aaa8-3e39fbf4e41e\n",
      "ed564b23-9f4d-4366-9ed0-3283c42ceb48\n",
      "fb973a76-cc49-4121-b300-45c0fe67c5d6\n",
      "6a8d573a-6ba4-4c3a-9734-d5755965a364\n",
      "8ae3c3a9-801d-4cc0-9440-03f454c79557\n",
      "dab6df2e-99f4-4121-8bff-4e69c0dc99db\n",
      "9ad47949-d103-45d5-99ef-d670373f06d1\n",
      "250019ca-1288-4590-ae4d-5db49ae689c0\n",
      "840dfb2a-e52f-4336-a258-1e6998387959\n",
      "c8d84799-e67c-47f0-bda9-27bdf990eb18\n",
      "6eb06286-e6c9-486d-a341-09df62b0d6f8\n",
      "594b1ecb-d747-42a9-a05d-b33109c3963a\n",
      "30f3c77e-5e8a-49d3-b20c-789c30786012\n",
      "2dba8a9f-89c5-4796-aeb5-6c51cbe287a5\n",
      "2db13125-a82b-4c59-b29c-faa06c762236\n",
      "e81f3915-aff0-4e71-864a-3241a2cfb5d4\n",
      "widgets\n",
      "bcbdf5db-6e27-4250-9b74-ce238ef2bde9\n"
     ]
    }
   ],
   "source": [
    "# List ids of all matching objects\n",
    "litems = [datasets_using, layers_using, widgets_using]\n",
    "print(subs)\n",
    "for i, x in enumerate(['datasets', 'layers', 'widgets']):\n",
    "    print(x)\n",
    "    for j in litems[i]:\n",
    "        print(j['id'])"
   ]
  },
  {
   "cell_type": "code",
   "execution_count": null,
   "metadata": {},
   "outputs": [],
   "source": []
  }
 ],
 "metadata": {
  "kernelspec": {
   "display_name": "Python 3",
   "language": "python",
   "name": "python3"
  },
  "language_info": {
   "codemirror_mode": {
    "name": "ipython",
    "version": 3
   },
   "file_extension": ".py",
   "mimetype": "text/x-python",
   "name": "python",
   "nbconvert_exporter": "python",
   "pygments_lexer": "ipython3",
   "version": "3.7.3"
  }
 },
 "nbformat": 4,
 "nbformat_minor": 2
}
