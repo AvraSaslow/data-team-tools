{
 "cells": [
  {
   "cell_type": "markdown",
   "metadata": {},
   "source": [
    "<h1>Welcome to the Resource Watch Duplicate Vector Layers Tool!</h1>"
   ]
  },
  {
   "cell_type": "code",
   "execution_count": null,
   "metadata": {},
   "outputs": [],
   "source": [
    "#Import necessary layers\n",
    "#!pip install LMIPy\n",
    "import LMIPy as lmi\n",
    "import os\n",
    "from IPython.display import display\n",
    "import numpy as np\n",
    "import dotenv\n",
    "import re"
   ]
  },
  {
   "cell_type": "markdown",
   "metadata": {},
   "source": [
    "<font color=red>**ACTION REQUIRED** <br>\n",
    "<font color=blue>**Enter the path to your .env file below.**</font>"
   ]
  },
  {
   "cell_type": "code",
   "execution_count": null,
   "metadata": {},
   "outputs": [],
   "source": [
    "#insert the location of your .env file here:\n",
    "dotenv.load_dotenv('')\n",
    "\n",
    "#API token needed to make changes\n",
    "API_TOKEN = os.getenv('RW_API_KEY')\n",
    "if API_TOKEN:\n",
    "    print('Your .env successfully loaded!')\n",
    "else:\n",
    "    print('Please check the path to your .env file and make sure you have a key called RW_API_KEY in your .env file.')"
   ]
  },
  {
   "cell_type": "markdown",
   "metadata": {},
   "source": [
    "<font color=red>**ACTION REQUIRED** <br>\n",
    "<font color=blue>**Enter your dataset ID below** <br>\n",
    "Run the next cell to show the dataset that you have selected, its first layer, and the total number of layers in the dataset.</font>"
   ]
  },
  {
   "cell_type": "code",
   "execution_count": null,
   "metadata": {},
   "outputs": [],
   "source": [
    "#Select dataset to edit\n",
    "dataset_id = '' #NEEDS TO BE THE LONG ONE LIKE 6cfd6255-609e-4922-8709-5aaad0db9fae\n",
    "dataset = lmi.Dataset(dataset_id)\n",
    "long_dataset_id = dataset.id\n",
    "\n",
    "print('Dataset selected: ')\n",
    "display(dataset)\n",
    "\n",
    "layers = dataset.layers\n",
    "example_layer = layers[0]   #Chose the first layer\n",
    "\n",
    "print('First layer:')\n",
    "display(example_layer)\n",
    "\n",
    "print(\"Number of layers in dataset: {}\".format(len(dataset.layers)))"
   ]
  },
  {
   "cell_type": "markdown",
   "metadata": {},
   "source": [
    "<font color=blue>Run the next cell to view the attributes that you may want to change.<br>\n",
    "We will print the attributes for the first layer to use as an example.</font>"
   ]
  },
  {
   "cell_type": "code",
   "execution_count": null,
   "metadata": {},
   "outputs": [],
   "source": [
    "#Gather the attributes that might need to change\n",
    "ex_name = example_layer.attributes['name']\n",
    "ex_description = example_layer.attributes['description']\n",
    "ex_appConfig = example_layer.attributes['layerConfig']\n",
    "ex_account = ex_appConfig['account']\n",
    "ex_sql = ex_appConfig['body']['layers'][0]['options']['sql']\n",
    "ex_cartocss = ex_appConfig['body']['layers'][0]['options']['cartocss']\n",
    "ex_vectorLayers = ex_appConfig['body']['vectorLayers']\n",
    "ex_legendConfig = example_layer.attributes['legendConfig']\n",
    "ex_interactionConfig = example_layer.attributes['interactionConfig']\n",
    "\n",
    "#Print them out\n",
    "print('name: \\n{} \\n'.format(ex_name))\n",
    "print('description: \\n{} \\n'.format(ex_description))\n",
    "print('account: \\n{} \\n'.format(ex_account))\n",
    "print('sql: \\n{} \\n'.format(ex_sql))\n",
    "print('cartocss: \\n{} \\n'.format(ex_cartocss))\n",
    "print('vectorLayers: \\n{} \\n'.format(ex_vectorLayers))\n",
    "print('legendConfig: \\n{} \\n'.format(ex_legendConfig))\n",
    "print('interactionConfig: \\n{} \\n'.format(ex_interactionConfig))"
   ]
  },
  {
   "cell_type": "markdown",
   "metadata": {},
   "source": [
    "<h1>Define our replacement.</h1>"
   ]
  },
  {
   "cell_type": "markdown",
   "metadata": {},
   "source": [
    "<font color=red>**ACTION REQUIRED**</font> <br>\n",
    "<font color=blue>**Enter the field you would like to edit (from those printed above), the new entry for that field, and indicate whether or not there is a variable year component to the layers**"
   ]
  },
  {
   "cell_type": "code",
   "execution_count": null,
   "metadata": {
    "scrolled": true
   },
   "outputs": [],
   "source": [
    "# Choose the field you want to edit\n",
    "field_to_edit = '' #e.g. 'name', 'description', 'sql', 'interactionConfig', etc.\n",
    "\n",
    "# Copy the current entry for this field from above.\n",
    "# If you are editing the legendConfig, interactionConfig, or vectorLayers, this should be a dictionary.\n",
    "# For any other field, paste the entry inside quotation marks to make it a string.\n",
    "# Edit this field however you would like to see it updated.\n",
    "ex_replacement_text = \\\n",
    "''\n",
    "\n",
    "# If there is a year in this field that changes from layer to layer, please type the year that was used in your \n",
    "# example replacement text below (as a string).\n",
    "# If there is no varying year component in this field, just leave the field below empty ('')\n",
    "ex_variable_year = '' #e.g., '1990' or ''"
   ]
  },
  {
   "cell_type": "markdown",
   "metadata": {},
   "source": [
    "<font color=red>**ACTION REQUIRED**</font> <br>\n",
    "<font color=blue>**Run this cell and make sure that the replacement text (printed below) looks ok for the example layer.**"
   ]
  },
  {
   "cell_type": "code",
   "execution_count": null,
   "metadata": {},
   "outputs": [],
   "source": [
    "# get the original text in the field we are changing\n",
    "field_to_edit_text = globals()['ex_'+field_to_edit]\n",
    "# If there is a variable string to maintain\n",
    "if len(ex_variable_year):\n",
    "    # generate a list of words in this string\n",
    "    word_list = re.findall(r\"[\\w']+|[.,!?;]\", field_to_edit_text)\n",
    "    # find the index of the year in this list of words\n",
    "    year_idx = word_list.index(ex_variable_year)\n",
    "\n",
    "    # generate the variable year to keep for the current layer, based on the location of the text in the example\n",
    "    variable_year = word_list[year_idx]\n",
    "    # replace the year in the example replacement text with a placeholder\n",
    "    replacement_text_variable = ex_replacement_text.replace(variable_year, '{string_to_keep}')\n",
    "    # fill in the placeholder with the variable string for the current layer\n",
    "    replacement_text = replacement_text_variable.format(string_to_keep=variable_year)\n",
    "# If there is NOT a variable string to maintain\n",
    "else:\n",
    "    # just use the replacement text that was entered above exactly as it is\n",
    "    replacement_text=ex_replacement_text\n",
    "\n",
    "#Print out the values so you can double check them\n",
    "print(f'Original text: \\n{field_to_edit_text}')\n",
    "print(f'\\nVariable year: {ex_variable_year}')\n",
    "print(f'\\nReplacement text:\\n{replacement_text}')"
   ]
  },
  {
   "cell_type": "markdown",
   "metadata": {},
   "source": [
    "<h1>Loop through all layers and edit the selected field.</h1>"
   ]
  },
  {
   "cell_type": "markdown",
   "metadata": {},
   "source": [
    "<font color=blue>**The cell below loops through each of the layers in the dataset and replaces the selected field with your replacement text. If you indicated that there was a year to keep in each layer, that year is identified and inserted into your replacement text before it is updated.**</font>"
   ]
  },
  {
   "cell_type": "code",
   "execution_count": null,
   "metadata": {
    "scrolled": true
   },
   "outputs": [],
   "source": [
    "for layer in layers:\n",
    "    print('Updating layer:')\n",
    "    display(layer) \n",
    "    \n",
    "    #Gather the attributes that might need to change\n",
    "    name = layer.attributes['name']\n",
    "    description = layer.attributes['description']\n",
    "    appConfig = layer.attributes['layerConfig']\n",
    "    account = appConfig['account']\n",
    "    sql = appConfig['body']['layers'][0]['options']['sql']\n",
    "    cartocss = appConfig['body']['layers'][0]['options']['cartocss']\n",
    "    vectorLayers = appConfig['body']['vectorLayers']\n",
    "    legendConfig = layer.attributes['legendConfig']\n",
    "    interactionConfig = layer.attributes['interactionConfig']\n",
    "    \n",
    "    if len(ex_variable_year):\n",
    "        # get the original text in the field we are changing\n",
    "        field_to_edit_text = globals()[field_to_edit]\n",
    "        \n",
    "        # get the list of words in the field for this layer\n",
    "        word_list = re.findall(r\"[\\w']+|[.,!?;]\", field_to_edit_text)\n",
    "\n",
    "        # generate the variable year to keep for the current layer, based on the location of the text in the example\n",
    "        variable_year = word_list[year_idx]        \n",
    "        # fill in the placeholder with the variable string for the current layer\n",
    "        replacement_text = replacement_text_variable.format(string_to_keep=variable_year)\n",
    "    else:\n",
    "        # just use the replacement text that was entered above exactly as it is\n",
    "        replacement_text=ex_replacement_text\n",
    "\n",
    "    # Replace layer attributes with new values\n",
    "    if field_to_edit=='sql' or field_to_edit=='cartocss':\n",
    "        appConfig = layer.attributes['layerConfig']\n",
    "        appConfig['body']['layers'][0]['options'][field_to_edit] = replacement_text\n",
    "        payload = {\n",
    "        'layerConfig': {\n",
    "            **appConfig\n",
    "            }\n",
    "        }\n",
    "    elif field_to_edit=='account':\n",
    "        appConfig = layer.attributes['layerConfig']\n",
    "        appConfig[field_to_edit] = replacement_text\n",
    "        payload = {\n",
    "        'layerConfig': {\n",
    "            **appConfig\n",
    "            }\n",
    "        }\n",
    "    elif field_to_edit=='vectorLayers':\n",
    "        appConfig = layer.attributes['layerConfig']\n",
    "        appConfig['body']['layers'][0]['options'][field_to_edit] = replacement_text\n",
    "        payload = {\n",
    "        'layerConfig': {\n",
    "            **appConfig\n",
    "            }\n",
    "        }\n",
    "    else:        \n",
    "        payload = {\n",
    "            field_to_edit: replacement_text\n",
    "        }\n",
    "    # Update the layer\n",
    "    layer = layer.update(update_params=payload, token=API_TOKEN)\n",
    "    print(f'\\nUpdated: {layer}')\n",
    "    print('\\n')"
   ]
  }
 ],
 "metadata": {
  "kernelspec": {
   "display_name": "Python 3",
   "language": "python",
   "name": "python3"
  },
  "language_info": {
   "codemirror_mode": {
    "name": "ipython",
    "version": 3
   },
   "file_extension": ".py",
   "mimetype": "text/x-python",
   "name": "python",
   "nbconvert_exporter": "python",
   "pygments_lexer": "ipython3",
   "version": "3.6.8"
  }
 },
 "nbformat": 4,
 "nbformat_minor": 2
}
