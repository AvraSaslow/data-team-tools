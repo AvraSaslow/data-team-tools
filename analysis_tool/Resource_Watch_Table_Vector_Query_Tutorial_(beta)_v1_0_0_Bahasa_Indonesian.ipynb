{
  "nbformat": 4,
  "nbformat_minor": 0,
  "metadata": {
    "colab": {
      "name": "Resource Watch Table/Vector Query Tutorial (beta) v1.0.0 - Bahasa Indonesian.ipynb",
      "provenance": [],
      "collapsed_sections": []
    },
    "kernelspec": {
      "name": "python3",
      "display_name": "Python 3"
    }
  },
  "cells": [
    {
      "cell_type": "markdown",
      "metadata": {
        "id": "VFUeqi9U-CEq",
        "colab_type": "text"
      },
      "source": [
        "![alt text][logo]\n",
        "\n",
        "[logo]:https://wri-public-data.s3.amazonaws.com/resourcewatch/18_LOGO_ResourceWatch/18_LOGO_ResourceWatch_PB.png \"Logo Title Text 2\""
      ]
    },
    {
      "cell_type": "markdown",
      "metadata": {
        "id": "uox1QfaDc17e",
        "colab_type": "text"
      },
      "source": [
        "#Resource Watch Query Tutorial"
      ]
    },
    {
      "cell_type": "code",
      "metadata": {
        "id": "59R0QT8wKfA3",
        "colab_type": "code",
        "colab": {}
      },
      "source": [
        "#@title # **Pemasangan Alat Bantu** { display-mode: \"form\" }\n",
        "#@markdown ###Tekan tombol “play” di sebelah kiri untuk memasang alat bantu bagi analisis Anda.\n",
        "import urllib\n",
        "import urllib.parse\n",
        "import requests\n",
        "import pandas as pd\n",
        "print('Selesai menginstal modul!')\n",
        "print('Anda dapat beralih ke sel berikutnya.')"
      ],
      "execution_count": 0,
      "outputs": []
    },
    {
      "cell_type": "markdown",
      "metadata": {
        "id": "IQAA1CmwAM9l",
        "colab_type": "text"
      },
      "source": [
        "# Ikhtisar\n",
        "Alat bantu analisis sumber terbuka Resource Watch ini memungkinkan Anda untuk melihat keseluruhan dataset yang disimpan dalam platform, atau bagian tertentu dari dataset, dengan cepat dan mudah. Anda juga dapat mengambil statistik sederhana dari data pada tingkat global, atau dalam wilayah minat Anda.\n",
        "Alat bantu ini memanfaatkan Antarmuka Pemrograman Aplikasi Resource Watch, atau API, yakni infrastruktur back-end situs resourcewatch.org yang memungkinkan Anda membagikan, memvisualisasikan, dan menganalisis ratusan dataset.\n",
        "<br><br>\n",
        "Alat bantu ini merupakan versi tutorial dari alat bantu lengkap, dan menggunakan rangkaian contoh untuk mengajarkan dasar penting dalam penulisan Resource Watch API queries. API queries didasarkan pada sistem manajemen basis data bernama PostgreSQL, yang merupakan versi sumber terbuka _Structured Query Language_ (SQL).\n",
        "<br><br>\n",
        "Untuk membuat query dalam API, Anda harus memiliki dua informasi utama: Resource Watch dataset ID dan pernyataan SQL yang menunjukkan informasi yang Anda inginkan dari dataset. Pertama-tama, Anda perlu membuka https://resourcewatch.org, lalu klik tombol 'Explore data' di laman depan. Pada laman 'Explore', Anda dapat mencari berbagai dataset yang dapat digunakan dalam alat bantu analisis data ini.\n"
      ]
    },
    {
      "cell_type": "markdown",
      "metadata": {
        "id": "O2XsfcVbNd3W",
        "colab_type": "text"
      },
      "source": [
        "#Mendapatkan Dataset ID"
      ]
    },
    {
      "cell_type": "markdown",
      "metadata": {
        "id": "mYFDAOHlNgUK",
        "colab_type": "text"
      },
      "source": [
        "Dataset ID merupakan informasi pertama yang perlu dianalisis menggunakan alat bantu ini. Dataset ID dapat ditemukan dalam laman metadata dataset. Setiap dataset yang ada di Resource Watch memiliki laman metadata tersendiri. Terdapat dua cara untuk membuka laman metadata dari katalog 'Explore':\n",
        "\n",
        "1) Anda dapat mengeklik tombol 'Details' pada kartu dataset dalam katalog 'Explore'.\n",
        "\n",
        "![alt text][sshot1]\n",
        "\n",
        "[sshot1]:http://wri-public-data.s3.amazonaws.com/resourcewatch/Screenshots/Indonesia%20Workshop/Details.png\n",
        "\n",
        "2) Jika dataset telah ditambahkan ke peta Anda dalam 'Explore', Anda dapat mengeklik tombol 'i' pada keterangan, lalu klik tombol 'More info' pada jendela pop-up.\n",
        "\n",
        "![alt text][sshot2]\n",
        "\n",
        "[sshot2]:http://wri-public-data.s3.amazonaws.com/resourcewatch/Screenshots/Indonesia%20Workshop/Layer%20Info.png\n",
        "\n",
        "![alt text][sshot3]\n",
        "\n",
        "[sshot3]:http://wri-public-data.s3.amazonaws.com/resourcewatch/Screenshots/Indonesia%20Workshop/More%20Info.png\n",
        "\n",
        "Setelah Anda membuka laman metadata dataset, Anda dapat memperoleh Dataset ID dari bagian akhir url: resourcewatch.org/data/explore/{dataset_id}. Nantinya, Anda perlu menyalin dan menempelkan ID ini ke alat bantu, jadi tetap buka tab ini.\n",
        "\n",
        "![alt text][sshot4]\n",
        "\n",
        "[sshot4]:http://wri-public-data.s3.amazonaws.com/resourcewatch/Screenshots/Indonesia%20Workshop/Dataset%20ID.png"
      ]
    },
    {
      "cell_type": "markdown",
      "metadata": {
        "id": "EM5G_Sl97eMP",
        "colab_type": "text"
      },
      "source": [
        "#Memulai dengan SQL"
      ]
    },
    {
      "cell_type": "markdown",
      "metadata": {
        "id": "D15b3XaRNSjv",
        "colab_type": "text"
      },
      "source": [
        "Semua dataset vektor aktif Resource Watch disimpan dalam tabel berupa baris dan kolom. Nama kolom menunjukkan informasi yang tengah disimpan dalam tabel, dan setiap baris menunjukkan geografi tertentu. Data yang disimpan dalam tabel dapat terdiri atas empat jenis: teks (text, juga disebut string), angka (number), geometri (geometry), atau tanggal (date, juga disebut timestamp). Setiap kolom harus diberi label sebagai salah satu dari empat jenis data tersebut, dan kolom ini hanya dapat menyimpan jenis informasi tersebut. Perhatikan bahwa string/kolom teks dapat menyimpan teks dan angka, namun statistik hanya dapat dihitung untuk kolom yang ditetapkan sebagai kolom angka.\n",
        "\n",
        "Anda dapat melihat contoh salah satu tabel ini pada tangkapan layar di bawah ini. Perhatikan bahwa dalam nama setiap kolom menunjukkan jenis kolom.\n",
        "\n",
        "![alt text][sshot4]\n",
        "\n",
        "[sshot4]:http://wri-public-data.s3.amazonaws.com/resourcewatch/Screenshots/Indonesia%20Workshop/Carto%20table.png\n",
        "\n",
        "Sebagaimana disebutkan di atas, SQL merupakan sistem manajemen basis data. SQL merupakan bahasa yang digunakan untuk menarik informasi tertentu dari tabel seperti ini. Misalnya, jika saya hanya ingin melihat data dari satu lokasi atau jika saya hanya ingin melihat nilai yang berada di atas ambang batas tertentu, saya dapat menggunakan SQL untuk menarik informasi ini tanpa harus mencari seluruh tabel dan menemukannya secara manual. Ini sangat membantu saat mengerjakan dataset yang memiliki ribuan baris data yang tidak mungkin kita cari sendiri!\n",
        "\n",
        "Kita akan memulai dengan mempelajari struktur SQL queries dan cara menarik bagian informasi tertentu. Setelah memahami dasar ini, kita akan mengakhirinya dengan mempelajari cara menghitung statistik guna membantu kita menarik informasi bermakna dari dataset besar."
      ]
    },
    {
      "cell_type": "code",
      "metadata": {
        "colab_type": "code",
        "id": "XPi-NEhLeuWO",
        "cellView": "form",
        "colab": {}
      },
      "source": [
        "#@markdown ##Queries Dasar\n",
        "#@markdown \n",
        "#@markdown Semua SQL queries memiliki struktur dasar yang wajib Anda mulai:\n",
        "#@markdown \n",
        "#@markdown &nbsp;&nbsp;&nbsp;&nbsp;&nbsp;&nbsp;&nbsp;&nbsp; SELECT {columns} FROM {table_name}\n",
        "#@markdown \n",
        "#@markdown saat {table_name} harus diganti dengan nama tabel yang menyimpan dataset yang diminati. Untuk API Resource Watch, Dataset ID dapat digunakan sebagai {table_name}. Ganti {columns} dengan nama kolom tertentu dalam dataset yang ingin Anda lihat. Terdapat dua opsi untuk memilih kolom yang diminati: Anda dapat memilih semuanya, atau Anda dapat memilih bagian khusus. Untuk memilih semua kolom, Anda dapat mengganti {columns} dengan tanda bintang (*). Untuk memilih bagian data, ganti {columns} dengan nama kolom yang diminati, dipisahkan dengan koma (misalnya: negara, level, nilai).\n",
        "#@markdown \n",
        "#@markdown \n",
        "#@markdown ###Contoh:\n",
        "#@markdown \n",
        "#@markdown Mari ambil contoh dataset untuk berlatih. Anda akan bekerja dengan Global Power Plant Database, yang memiliki Dataset ID berikut:\n",
        "#@markdown \n",
        "#@markdown &nbsp;&nbsp;&nbsp;&nbsp;&nbsp;&nbsp;&nbsp;&nbsp; Powerwatch\n",
        "#@markdown \n",
        "#@markdown SQL query dasar Anda akan menjadi:\n",
        "#@markdown \n",
        "#@markdown &nbsp;&nbsp;&nbsp;&nbsp;&nbsp;&nbsp;&nbsp;&nbsp; SELECT * FROM Powerwatch\n",
        "#@markdown \n",
        "#@markdown SQL query akan mengembalikan seluruh tabel data (semua kolom) dalam dataset tersebut dari API, yang akan sangat panjang. Apabila Anda hanya ingin melihat pratinjau data, Anda dapat membatasi jumlah baris data yang ingin dilihat. Anda dapat membatasi hasil hingga 5 baris dengan menambahkan LIMIT 5 pada akhir query. Query ini akan menjadi:\n",
        "#@markdown \n",
        "#@markdown &nbsp;&nbsp;&nbsp;&nbsp;&nbsp;&nbsp;&nbsp;&nbsp; SELECT * FROM Powerwatch LIMIT 5\n",
        "#@markdown \n",
        "#@markdown Anda dapat mengubah angka 5 menjadi nomor lain jika Anda ingin melihat jumlah baris yang berbeda, atau Anda dapat menghapus semuanya sekaligus jika Anda ingin melihat seluruh tabel data.\n",
        "#@markdown \n",
        "#@markdown \n",
        "\n",
        "#@markdown ###Masukkan API query di bawah ini dan jalankan pernyataan SQL untuk melihat hasilnya.\n",
        "\n",
        "query =\"\" #@param {type:\"string\"}\n",
        "sql_query = urllib.parse.quote(query)\n",
        "url = 'https://api.resourcewatch.org/query?sql={}'.format(sql_query)\n",
        "print('Data Query Link: {}'.format(url))\n",
        "download_url = 'https://api.resourcewatch.org/download?sql={}'.format(sql_query)\n",
        "print('Data Download Link: {}'.format(download_url))\n",
        "  \n",
        "r = requests.get(url)\n",
        "\n",
        "if r.status_code == 200:\n",
        "  df = pd.DataFrame.from_dict(r.json()['data'])\n",
        "  print(\"Hasil query:\")\n",
        "  display(df)\n",
        "  \n",
        "#@markdown &nbsp;&nbsp;&nbsp;&nbsp;&nbsp; **Queries yang disarankan**:\n",
        "#@markdown \n",
        "#@markdown &nbsp;&nbsp;&nbsp;&nbsp;&nbsp;&nbsp;&nbsp;&nbsp;&nbsp;&nbsp;&nbsp; SELECT * FROM Powerwatch\n",
        "#@markdown <br>\n",
        "#@markdown &nbsp;&nbsp;&nbsp;&nbsp;&nbsp;&nbsp;&nbsp;&nbsp;&nbsp;&nbsp;&nbsp; SELECT * FROM Powerwatch LIMIT 5\n",
        "#@markdown \n",
        "#@markdown Anda dapat mengubah query pada bidang di atas dan kembali menjalankan sel untuk mengubah hasil Anda. Coba ubah batas jumlah baris untuk melihat perubahan hasilnya.\n",
        "#@markdown \n",
        "#@markdown **Catatan**: Anda membatasi hasil hanya untuk 5 baris pertama, sehingga Anda tidak mencetak ribuan baris di layar Anda. Apabila Anda mengeklik 'Data Download Link' pada query seperti ini, Anda hanya akan mengunduh 5 baris pertama. Alat bantu ini hanya akan memberi Anda informasi yang diminta. Apabila Anda ingin menganalisis bagian data atau mengunduh hasil lengkap query Anda, pastikan untuk menghapus batas query Anda."
      ],
      "execution_count": 0,
      "outputs": []
    },
    {
      "cell_type": "code",
      "metadata": {
        "id": "miyPIxw8JHzD",
        "colab_type": "code",
        "cellView": "form",
        "colab": {}
      },
      "source": [
        "#@markdown ##Memilih kolom tertentu\n",
        "#@markdown Queries Anda baru memberikan pratinjau dari Basis Data Powerplant Global. Anda mungkin memperhatikan bahwa beberapa kolom berisi informasi yang tidak bermanfaat untuk analisis. Anda dapat mengabaikan kolom ini dan berfokus pada kolom yang berisi informasi bermanfaat dengan mengganti * dengan nama kolom yang ingin Anda lihat. Anda dapat melihat kolom negara, level, wilayah, nilai, dan tahun menggunakan SQL query berikut:\n",
        "#@markdown \n",
        "#@markdown &nbsp;&nbsp;&nbsp;&nbsp;&nbsp;&nbsp;&nbsp;&nbsp; SELECT name, primary_fuel, country_long, commissioning_year, capacity_mw FROM Powerwatch LIMIT 5\n",
        "\n",
        "\n",
        "#@markdown ###Masukkan API query di bawah ini dan jalankan pernyataan SQL untuk melihat hasilnya.\n",
        "\n",
        "query =\"\" #@param {type:\"string\"}\n",
        "sql_query = urllib.parse.quote(query)\n",
        "url = 'https://api.resourcewatch.org/query?sql={}'.format(sql_query)\n",
        "print('Data Query Link: {}'.format(url))\n",
        "download_url = 'https://api.resourcewatch.org/download?sql={}'.format(sql_query)\n",
        "print('Data Download Link: {}'.format(download_url))\n",
        "  \n",
        "r = requests.get(url)\n",
        "\n",
        "if r.status_code == 200:\n",
        "  df = pd.DataFrame.from_dict(r.json()['data'])\n",
        "  print(\"Hasil query:\")\n",
        "  display(df)\n",
        "  \n",
        "#@markdown &nbsp;&nbsp;&nbsp;&nbsp;&nbsp; **Queries yang disarankan**:\n",
        "#@markdown \n",
        "#@markdown &nbsp;&nbsp;&nbsp;&nbsp;&nbsp;&nbsp;&nbsp;&nbsp;&nbsp;&nbsp;&nbsp; SELECT name, primary_fuel, country_long, commissioning_year, capacity_mw FROM Powerwatch LIMIT 5"
      ],
      "execution_count": 0,
      "outputs": []
    },
    {
      "cell_type": "markdown",
      "metadata": {
        "id": "fRLAJMmeNKlm",
        "colab_type": "text"
      },
      "source": [
        "#Filter"
      ]
    },
    {
      "cell_type": "code",
      "metadata": {
        "colab_type": "code",
        "cellView": "form",
        "id": "_M1C1xheLMgA",
        "colab": {}
      },
      "source": [
        "#@markdown ##Filter Dasar\n",
        "#@markdown Setelah Anda mengetahui cara menggunakan alat bantu ini untuk menarik data dari API, sekarang Anda akan mempelajari cara memfilter bagian data sehingga Anda hanya melihat bagian yang berkaitan dengan penelitian Anda. Perintah WHERE dapat ditambahkan ke pernyataan SQL untuk memfilter poin data yang termasuk dalam ketentuan tertentu. Ketentuan ini ditambahkan pada akhir pernyataan SQL Anda:\n",
        "#@markdown \n",
        "#@markdown &nbsp;&nbsp;&nbsp;&nbsp;&nbsp;&nbsp;&nbsp;&nbsp; SELECT {columns} FROM\n",
        "#@markdown {table_name} WHERE {condition}\n",
        "#@markdown ###Contoh:\n",
        "\n",
        "#@markdown Anda mungkin menemukan contoh dataset yang memuat data dari seluruh dunia. Apabila Anda hanya tertarik untuk melihat data dari Indonesia, gunakan kolom 'country_long' untuk hanya menarik data yang berasal dari Indonesia. Tambahkan ketentuan kolom ke pernyataan SQL, WHERE country_long = 'Indonesia' dimana lengkapnya sekarang terlihat seperti ini:\n",
        "#@markdown \n",
        "#@markdown &nbsp;&nbsp;&nbsp;&nbsp;&nbsp;&nbsp;&nbsp;&nbsp; SELECT name, primary_fuel, country_long, commissioning_year, capacity_mw FROM Powerwatch WHERE country_long = 'Indonesia' LIMIT 5\n",
        "#@markdown \n",
        "#@markdown SQL query di atas disusun sebagai berikut:\n",
        "#@markdown \n",
        "#@markdown &nbsp;&nbsp;&nbsp;&nbsp;&nbsp;&nbsp;&nbsp;&nbsp; SELECT {columns} FROM {table_name} WHERE {column_name} = {value}\n",
        "#@markdown\n",
        "#@markdown Dalam query di atas, tanda sama dengan (=) dikenal sebagai operator pembanding. Anda tidak selalu harus menggunakan sama dengan (=) sebagai operator Anda. Saat menemukan kolom yang berisi angka, Anda juga dapat menggunakan operator perbandingan, misalnya lebih besar dari (>), lebih besar dari atau sama dengan (>=), kurang dari (<), kurang dari atau sama dengan (<=), atau tidak sama dengan (!=). Apabila Anda ingin menemukan semua data dengan kapasitas lebih besar atau sama dengan 100 megawatt (MW), Anda dapat melakukannya dengan mengikuti query berikut:\n",
        "#@markdown\n",
        "#@markdown &nbsp;&nbsp;&nbsp;&nbsp;&nbsp;&nbsp;&nbsp;&nbsp; SELECT name, primary_fuel, country_long, commissioning_year, capacity_mw FROM Powerwatch WHERE capacity_mw>=100 LIMIT 5\n",
        "#@markdown\n",
        "#@markdown ###Masukkan API query di bawah ini dan jalankan pernyataan SQL untuk melihat hasilnya.\n",
        "query =\"\" #@param {type:\"string\"}\n",
        "sql_query = urllib.parse.quote(query)\n",
        "url = 'https://api.resourcewatch.org/query?sql={}'.format(sql_query)\n",
        "print('Data Query Link: {}'.format(url))\n",
        "download_url = 'https://api.resourcewatch.org/download?sql={}'.format(sql_query)\n",
        "print('Data Download Link: {}'.format(download_url))\n",
        "  \n",
        "r = requests.get(url)\n",
        "\n",
        "if r.status_code == 200:\n",
        "  df = pd.DataFrame.from_dict(r.json()['data'])\n",
        "  print(\"Hasil query:\")\n",
        "  display(df)\n",
        "#@markdown &nbsp;&nbsp;&nbsp;&nbsp;&nbsp; **Queries yang disarankan**:\n",
        "#@markdown \n",
        "#@markdown &nbsp;&nbsp;&nbsp;&nbsp;&nbsp;&nbsp;&nbsp;&nbsp;&nbsp;&nbsp;&nbsp; SELECT name, primary_fuel, country_long, commissioning_year, capacity_mw FROM Powerwatch WHERE country_long = 'Indonesia' LIMIT 5\n",
        "#@markdown <br>\n",
        "#@markdown &nbsp;&nbsp;&nbsp;&nbsp;&nbsp;&nbsp;&nbsp;&nbsp;&nbsp;&nbsp;&nbsp; SELECT name, primary_fuel, country_long, commissioning_year, capacity_mw FROM Powerwatch WHERE capacity_mw>=100 LIMIT 5\n",
        "#@markdown <br>\n",
        "\n",
        "#@markdown **Catatan**: Saat memfilter data dengan SQL query, nama kolom (misalnya country_long) tidak perlu dituliskan dalam tanda kutip, namun nilai (seperti ‘Indonesia’) sering kali perlu ditulis demikian. Saat memfilter kolom berupa teks atau tanggal/catatan waktu, nilai yang Anda cari haruslah berada dalam tanda kutip tunggal (misalnya: ‘New York’). Namun demikian, Anda tidak perlu memasukkan nilai dalam tanda kutip jika berupa angka."
      ],
      "execution_count": 0,
      "outputs": []
    },
    {
      "cell_type": "code",
      "metadata": {
        "id": "lH6ZUhqz9_OH",
        "colab_type": "code",
        "cellView": "form",
        "colab": {}
      },
      "source": [
        "#@markdown ##Memfilter berdasarkan beberapa nilai\n",
        "#@markdown Memfilter berdasarkan ‘Indonesia’ membantu Anda menyederhanakan data yang dilihat, sehingga membantu Anda lebih mudah menganalisis data yang diperlukan. Namun demikian, hasil yang Anda dapatkan menggunakan filter ini mungkin masih memuat terlalu banyak informasi yang harus dibandingkan pada saat yang sama. Anda dapat melihat banyak jenis pembangkit listrik dalam kolom 'primary_fuel' yang dicantumkan dalam basis data ini. Terdapat juga berbagai kolom lain yang dapat digunakan untuk memfokuskan analisis Anda pada bagian tertentu data sesuai keinginan. Anda dapat menambahkan lebih banyak filter agar Anda dapat mengambil sebagian kecil data sebagai fokus. Untuk menambahkan beberapa kondisi pada perintah WHERE Anda, gabungkan kondisi dengan AND, seperti contoh di bawah ini:\n",
        "\n",
        "#@markdown &nbsp;&nbsp;&nbsp;&nbsp;&nbsp;&nbsp;&nbsp;&nbsp; SELECT {columns} FROM\n",
        "#@markdown {table_name} WHERE {condition1} AND {condition2} AND {condition3}\n",
        "\n",
        "#@markdown Anda dapat menambahkan sebanyak mungkin kondisi yang diinginkan saat memfilter data.\n",
        "#@markdown ###Contoh 1:\n",
        "#@markdown Apabila Anda hanya ingin menampilkan data pembangkit listrik tenaga batu bara di Indonesia, Anda dapat menggunakan SQL query berikut:\n",
        "#@markdown \n",
        "#@markdown &nbsp;&nbsp;&nbsp;&nbsp;&nbsp;&nbsp;&nbsp;&nbsp; SELECT name, primary_fuel, country_long, commissioning_year, capacity_mw FROM Powerwatch WHERE country_long='Indonesia' AND primary_fuel='Coal' LIMIT 5\n",
        "#@markdown ###Contoh 2:\n",
        "#@markdown Sekarang, jika Anda hanya ingin menampilkan pembangkit listrik tenaga batu bara di Indonesia dengan kapasitas di atas 100 MW, Anda dapat memodifikasi SQL query menjadi:\n",
        "#@markdown \n",
        "#@markdown &nbsp;&nbsp;&nbsp;&nbsp;&nbsp;&nbsp;&nbsp;&nbsp; SELECT name, primary_fuel, country_long, commissioning_year, capacity_mw FROM Powerwatch WHERE country_long='Indonesia' AND primary_fuel='Coal' AND capacity_mw>100 LIMIT 5\n",
        "#@markdown ###Masukkan API query di bawah ini dan jalankan pernyataan SQL untuk melihat hasilnya.\n",
        "query =\"\" #@param {type:\"string\"}\n",
        "sql_query = urllib.parse.quote(query)\n",
        "url = 'https://api.resourcewatch.org/query?sql={}'.format(sql_query)\n",
        "print('Data Query Link: {}'.format(url))\n",
        "download_url = 'https://api.resourcewatch.org/download?sql={}'.format(sql_query)\n",
        "print('Data Download Link: {}'.format(download_url))\n",
        "  \n",
        "r = requests.get(url)\n",
        "\n",
        "if r.status_code == 200:\n",
        "  df = pd.DataFrame.from_dict(r.json()['data'])\n",
        "  print(\"Hasil query:\")\n",
        "  display(df)\n",
        "  \n",
        "#@markdown &nbsp;&nbsp;&nbsp;&nbsp;&nbsp; **Queries yang disarankan**:\n",
        "#@markdown \n",
        "#@markdown &nbsp;&nbsp;&nbsp;&nbsp;&nbsp;&nbsp;&nbsp;&nbsp;&nbsp;&nbsp;&nbsp; SELECT name, primary_fuel, country_long, commissioning_year, capacity_mw FROM Powerwatch WHERE country_long='Indonesia' AND primary_fuel='Coal' AND capacity_mw>100 LIMIT 5\n",
        "#@markdown <br>\n",
        "#@markdown &nbsp;&nbsp;&nbsp;&nbsp;&nbsp;&nbsp;&nbsp;&nbsp;&nbsp;&nbsp;&nbsp; SELECT name, primary_fuel, country_long, commissioning_year, capacity_mw FROM Powerwatch WHERE country_long='Indonesia' AND primary_fuel='Coal' AND capacity_mw>100 LIMIT 5"
      ],
      "execution_count": 0,
      "outputs": []
    },
    {
      "cell_type": "markdown",
      "metadata": {
        "id": "JvG6IxAqIAry",
        "colab_type": "text"
      },
      "source": [
        "#Mengurutkan"
      ]
    },
    {
      "cell_type": "code",
      "metadata": {
        "id": "hkOw11VcViF0",
        "colab_type": "code",
        "cellView": "form",
        "colab": {}
      },
      "source": [
        "#@markdown ##Mengurutkan hasil Anda\n",
        "#@markdown Setelah Anda mengetahui cara memfilter hanya pembangkit listrik tenaga batu bara di Indonesia, Anda mungkin ingin mengetahui pembangkit listrik terbesar dan terkecil. Untuk melakukannya, Anda dapat mengurutkan SQL query dengan menambahkan perintah ORDER BY.\n",
        "#@markdown ###Contoh:\n",
        "#@markdown Anda dapat melihat bahwa terdapat kolom bertuliskan 'capacity_mw' yang menyimpan kapasitas pembangkit listrik tersebut. Anda telah memfilter data sesuai keinginan (pembangkit listrik tenaga batu bara di Indonesia). Sekarang, Anda dapat mengurutkannya dengan kolom 'capacity_mw'. Untuk menampilkan hasil dengan nilai tertinggi pada bagian atas, gunakan perintah DESC, dimana baris semakin ke bawah, nilai akan semakin mengecil. Untuk melakukannya, Anda dapat menggunakan perintah SQL berikut:\n",
        "#@markdown \n",
        "#@markdown &nbsp;&nbsp;&nbsp;&nbsp;&nbsp;&nbsp;&nbsp;&nbsp; SELECT name, primary_fuel, country_long, commissioning_year, capacity_mw FROM Powerwatch WHERE country_long='Indonesia' AND primary_fuel='Coal' ORDER BY capacity_mw DESC LIMIT 10\n",
        "\n",
        "#@markdown Sama halnya, jika Anda ingin melihat pembangkit listrik tenaga batu bara di Indonesia dengan nilai terkecil paling atas, Anda dapat mengurutkan kolom 'capacity_mw' dengan perintah ASC, dimana baris semakin ke bawah, semakin besar nilainya. Dalam hal ini, gunakan perintah SQL berikut ini:\n",
        "#@markdown \n",
        "#@markdown &nbsp;&nbsp;&nbsp;&nbsp;&nbsp;&nbsp;&nbsp;&nbsp; SELECT name, primary_fuel, country_long, commissioning_year, capacity_mw FROM Powerwatch WHERE country_long='Indonesia' AND primary_fuel='Coal' ORDER BY capacity_mw ASC LIMIT 10\n",
        "#@markdown ###Masukkan API query di bawah ini dan jalankan pernyataan SQL untuk melihat hasilnya.\n",
        "query =\"\" #@param {type:\"string\"}\n",
        "sql_query = urllib.parse.quote(query)\n",
        "url = 'https://api.resourcewatch.org/query?sql={}'.format(sql_query)\n",
        "print('Data Query Link: {}'.format(url))\n",
        "download_url = 'https://api.resourcewatch.org/download?sql={}'.format(sql_query)\n",
        "print('Data Download Link: {}'.format(download_url))\n",
        "\n",
        "r = requests.get(url)\n",
        "\n",
        "if r.status_code == 200:\n",
        "  df = pd.DataFrame.from_dict(r.json()['data'])\n",
        "  print(\"Hasil query:\")\n",
        "  display(df)\n",
        "#@markdown &nbsp;&nbsp;&nbsp;&nbsp;&nbsp; **Query yang disarankan**:\n",
        "#@markdown \n",
        "#@markdown &nbsp;&nbsp;&nbsp;&nbsp;&nbsp;&nbsp;&nbsp;&nbsp;&nbsp;&nbsp;&nbsp; SELECT name, primary_fuel, country_long, commissioning_year, capacity_mw FROM Powerwatch WHERE country_long='Indonesia' AND primary_fuel='Coal' ORDER BY capacity_mw DESC LIMIT 10 \n",
        "#@markdown <br>\n",
        "#@markdown &nbsp;&nbsp;&nbsp;&nbsp;&nbsp;&nbsp;&nbsp;&nbsp;&nbsp;&nbsp;&nbsp; SELECT name, primary_fuel, country_long, commissioning_year, capacity_mw FROM Powerwatch WHERE country_long='Indonesia' AND primary_fuel='Coal' ORDER BY capacity_mw ASC LIMIT 10"
      ],
      "execution_count": 0,
      "outputs": []
    },
    {
      "cell_type": "markdown",
      "metadata": {
        "id": "3ilxjftXMqPo",
        "colab_type": "text"
      },
      "source": [
        "#Menghitung Statistik"
      ]
    },
    {
      "cell_type": "code",
      "metadata": {
        "id": "t1CSjyEaLN-r",
        "colab_type": "code",
        "cellView": "form",
        "colab": {}
      },
      "source": [
        "#@markdown Sekarang, Anda mengetahui bagaimana cara menulis query untuk memfilter bagian dataset khusus yang ingin ditampilkan. Anda dapat menjalankan pernyataan SQL yang memfilter pembangkit listrik tenaga batu bara di Indonesia\n",
        "\n",
        "#@markdown &nbsp;&nbsp;&nbsp;&nbsp;&nbsp;&nbsp;&nbsp;&nbsp; SELECT name, primary_fuel, country_long, commissioning_year, capacity_mw FROM Powerwatch WHERE country_long='Indonesia' AND primary_fuel='Coal' \n",
        "\n",
        "#@markdown Alih-alih menampilkan daftar semua pembangkit listrik tenaga batu bara di Indonesia, Anda mungkin hanya ingin mendapatkan rata-rata kapasitas pembangkit listrik tenaga batu bara di Indonesia. Untuk melakukannya, gunakan fungsi AVG() pada salah satu kolom daripada memilih semua kolom yang ada. Sebagai contoh, Anda ingin melihat kapasitas yang disimpan dalam kolom 'capacity_mw'.\n",
        "#@markdown\n",
        "#@markdown Anda dapat menulis pernyataan query yang baru digunakan untuk memfilter lokasi dan waktu yang benar, daripada menggunakan SELECT *, gunakan SELECT AVG(ppm).\n",
        "\n",
        "#@markdown ###Masukkan API query di bawah ini dan jalankan pernyataan SQL untuk melihat hasilnya.\n",
        "query =\"\" #@param {type:\"string\"}\n",
        "sql_query = urllib.parse.quote(query)\n",
        "url = 'https://api.resourcewatch.org/query?sql={}'.format(sql_query)\n",
        "print('Data Query Link: {}'.format(url))\n",
        "download_url = 'https://api.resourcewatch.org/download?sql={}'.format(sql_query)\n",
        "print('Data Download Link: {}'.format(download_url))\n",
        "  \n",
        "r = requests.get(url)\n",
        "\n",
        "if r.status_code == 200:\n",
        "  df = pd.DataFrame.from_dict(r.json()['data'])\n",
        "  print(\"Hasil query:\")\n",
        "  display(df)\n",
        "#@markdown &nbsp;&nbsp;&nbsp;&nbsp;&nbsp; **Queries yang disarankan**:\n",
        "#@markdown \n",
        "#@markdown &nbsp;&nbsp;&nbsp;&nbsp;&nbsp;&nbsp;&nbsp;&nbsp;&nbsp;&nbsp;&nbsp; SELECT AVG(capacity_mw) FROM Powerwatch WHERE country_long='Indonesia' AND primary_fuel='Coal'"
      ],
      "execution_count": 0,
      "outputs": []
    },
    {
      "cell_type": "code",
      "metadata": {
        "id": "SJH5df43HR2_",
        "colab_type": "code",
        "cellView": "form",
        "colab": {}
      },
      "source": [
        "#@markdown ##Statistik Lain\n",
        "#@markdown Rata-rata (AVG) bukan satu-satunya fungsi statistik yang bisa Anda hitung dari tabel. Anda juga dapat menghitung jumlah maksimal (MAX), jumlah minimal (MIN), jumlah keseluruhan (SUM), atau menghitung banyak entri dalam tabel (COUNT).\n",
        "\n",
        "#@markdown Coba hitung beberapa statistik berikut.\n",
        "\n",
        "#@markdown ###Masukkan API query di bawah ini dan jalankan pernyataan SQL untuk melihat hasilnya.\n",
        "query =\"\" #@param {type:\"string\"}\n",
        "sql_query = urllib.parse.quote(query)\n",
        "url = 'https://api.resourcewatch.org/query?sql={}'.format(sql_query)\n",
        "print('Data Query Link: {}'.format(url))\n",
        "download_url = 'https://api.resourcewatch.org/download?sql={}'.format(sql_query)\n",
        "print('Data Download Link: {}'.format(download_url))\n",
        "\n",
        "\n",
        "r = requests.get(url)\n",
        "\n",
        "if r.status_code == 200:\n",
        "  df = pd.DataFrame.from_dict(r.json()['data'])\n",
        "  print(\"Hasil query:\")\n",
        "  display(df)\n",
        "#@markdown &nbsp;&nbsp;&nbsp;&nbsp;&nbsp; **Query yang disarankan**:\n",
        "#@markdown \n",
        "#@markdown &nbsp;&nbsp;&nbsp;&nbsp;&nbsp;&nbsp;&nbsp;&nbsp;&nbsp;&nbsp;&nbsp; SELECT MAX(capacity_mw) FROM Powerwatch WHERE country_long='Indonesia' AND primary_fuel='Coal'\n",
        "#@markdown \n",
        "#@markdown &nbsp;&nbsp;&nbsp;&nbsp;&nbsp;&nbsp;&nbsp;&nbsp;&nbsp;&nbsp;&nbsp; SELECT MIN(capacity_mw) FROM Powerwatch WHERE country_long='Indonesia' AND primary_fuel='Coal'\n",
        "#@markdown \n",
        "#@markdown &nbsp;&nbsp;&nbsp;&nbsp;&nbsp;&nbsp;&nbsp;&nbsp;&nbsp;&nbsp;&nbsp; SELECT COUNT(capacity_mw) FROM Powerwatch WHERE country_long='Indonesia' AND primary_fuel='Coal'\n",
        "#@markdown \n",
        "#@markdown &nbsp;&nbsp;&nbsp;&nbsp;&nbsp;&nbsp;&nbsp;&nbsp;&nbsp;&nbsp;&nbsp; SELECT SUM(capacity_mw) FROM Powerwatch WHERE country_long='Indonesia' AND primary_fuel='Coal'"
      ],
      "execution_count": 0,
      "outputs": []
    },
    {
      "cell_type": "markdown",
      "metadata": {
        "id": "Wyg1RkKWrUXO",
        "colab_type": "text"
      },
      "source": [
        "#Latihan"
      ]
    },
    {
      "cell_type": "code",
      "metadata": {
        "id": "gRCPlTyKq_rO",
        "colab_type": "code",
        "cellView": "form",
        "colab": {}
      },
      "source": [
        "#@markdown ##Uji Pengetahuan SQL Anda\n",
        "#@markdown Tulis pernyataan SQL queries untuk menjawab pertanyaan di bawah:\n",
        "#@markdown * Dimanakah pembangkit listrik tenaga air terbesar di Indonesia?\n",
        "#@markdown * Dimanakah pembangkit listrik tenaga air terbesar di dunia?\n",
        "#@markdown * Berapa rata-rata kapasitas pembangkit listrik tenaga air di Indonesia?\n",
        "#@markdown \n",
        "#@markdown ###Masukkan API query di bawah ini dan jalankan pernyataan SQL untuk melihat hasilnya.\n",
        "query =\"\" #@param {type:\"string\"}\n",
        "sql_query = urllib.parse.quote(query)\n",
        "url = 'https://api.resourcewatch.org/query?sql={}'.format(sql_query)\n",
        "print('Data Query Link: {}'.format(url))\n",
        "download_url = 'https://api.resourcewatch.org/download?sql={}'.format(sql_query)\n",
        "print('Data Download Link: {}'.format(download_url))\n",
        "\n",
        "\n",
        "r = requests.get(url)\n",
        "\n",
        "if r.status_code == 200:\n",
        "  df = pd.DataFrame.from_dict(r.json()['data'])\n",
        "  print(\"Hasil query:\")\n",
        "  display(df)\n"
      ],
      "execution_count": 0,
      "outputs": []
    },
    {
      "cell_type": "markdown",
      "metadata": {
        "id": "TtAkBaqtNrvb",
        "colab_type": "text"
      },
      "source": [
        "#Lembar Bantuan\n",
        "Tutorial ini telah memberikan ikhtisar dasar cara menyusun SQL queries. Berikut adalah tinjauan singkat SQL queries yang telah dipelajari:\n",
        "\n",
        "**Lihat semua atau beberapa kolom dataset dengan query dasar**: SELECT {columns} FROM {dataset_id}<br>\n",
        "**Batasi jumlah baris yang Anda lihat dari dataset**: SELECT {columns} FROM {dataset_id} LIMIT {number_of_rows}<br>\n",
        "**Memfilter data pada beberapa kolom**: SELECT {columns} FROM {table_name} WHERE {column_name} {<, <=, >, >=, =, !=} {value}<br>\n",
        "&nbsp;&nbsp;&nbsp;&nbsp;&nbsp;&nbsp;&nbsp;&nbsp;**Menerapkan beberapa filter**: SELECT {columns} FROM {dataset_id} WHERE {condition1} AND {condition2} AND {condition3}<br>\n",
        "&nbsp;&nbsp;&nbsp;&nbsp;&nbsp;&nbsp;&nbsp;&nbsp;**Filter waktu**: SELECT {columns} FROM {dataset_id} WHERE {datetime_column} {<, <=, >, >=, =, !=} {YYYY-MM-DD}T{HH:MI:SS}Z<br>\n",
        "**Mengurutkan dataset berdasarkan dari nilai terbesar atau terkecil**: SELECT {columns} FROM {dataset_id} ORDER BY {column_name} {ASC, DESC}<br>\n",
        "**Statistik**: SELECT {function}({column_name}) FROM {dataset_id}<br>\n",
        "&nbsp;&nbsp;&nbsp;&nbsp;&nbsp;&nbsp;&nbsp;&nbsp; **Fungsi Statistik yang tersedia**: AVG(), SUM(), MIN(), MAX(), COUNT()\n",
        "\n",
        "Anda dapat menggunakan SQL query untuk mengeluarkan data sesuai keinginan Anda dari API Resource Watch menggunakan Resource Watch Query Tool."
      ]
    },
    {
      "cell_type": "markdown",
      "metadata": {
        "id": "sCimPMpZ4cw0",
        "colab_type": "text"
      },
      "source": [
        "#Tutorial Opsional"
      ]
    },
    {
      "cell_type": "code",
      "metadata": {
        "id": "YvjwXfaZ9_UJ",
        "colab_type": "code",
        "cellView": "form",
        "colab": {}
      },
      "source": [
        "#@markdown ##Memfilter berdasarkan waktu\n",
        "#@markdown Kolom tanggal dapat difilter dengan cara yang sama seperti filter kolom lain, namun perlu diperhatikan untuk memastikan dalam format yang benar. Kolom tanggal memiliki format berikut: '{date}T{time}Z' saat {date} harus diganti dengan tanggal dalam format YYYY-MM-DD, dan {time} harus diganti dengan waktu 24-jam dalam format HH:MI:SS. Format waktu 24 jam sering kali menggunakan sistem Waktu Universal Terkoordinasi (UTC), namun Anda harus selalu memeriksa sumber dataset untuk memastikannya. Misalnya, Anda harus memfilter data untuk hanya menampilkan informasi dari tengah malam 22 Juli 2019 dengan query ini:\n",
        "\n",
        "#@markdown &nbsp;&nbsp;&nbsp;&nbsp;&nbsp;&nbsp;&nbsp;&nbsp; SELECT {columns} FROM {table_name} WHERE {datetime_column} = '2019-07-22T00:00:00Z'\n",
        "\n",
        "#@markdown Query apa pun tanpa jam yang ditentukan akan dianggap dimulai dari tengah malam. Jadi, jika Anda mengosongkan bagian jam, contoh query ini akan tetap berfungsi, karena tengah malam (T00:00:00Z) tersirat dalam query ini:\n",
        "\n",
        "#@markdown &nbsp;&nbsp;&nbsp;&nbsp;&nbsp;&nbsp;&nbsp;&nbsp; SELECT {columns} FROM {table_name} WHERE {datetime_column} = '2019-07-22'\n",
        "#@markdown \n",
        "#@markdown Jadi, jika Anda mencari waktu selain tengah malam pada hari tertentu, pastikan untuk menyertakan bagian jam dalam filter Anda. Apabila tidak, hanya data dari tengah malam yang akan dikeluarkan.\n",
        "#@markdown \n",
        "#@markdown\n",
        "#@markdown **Catatan**: Tidak semua dataset memuat bidang tanggal. Anda harus memeriksa dataset pada jendela pratinjau untuk melihat jika bidang tanggal disertakan sebelum mengetahui jika Anda dapat memfilter berdasarkan tanggal. \n",
        "#@markdown ###Contoh:\n",
        "#@markdown Apabila dataset memiliki kolom yang mencantumkan waktu, Anda dapat mengembangkan queries untuk menganalisis dataset berdasarkan waktu dan tanggal. Salah satu contoh dataset yang mencantumkan data dengan catatan waktu berbeda adalah Kualitas Udara: Kumpulan Data Pengukuran Stasiun PM2.5, yang memiliki Dataset ID berikut: \n",
        "#@markdown \n",
        "#@markdown &nbsp;&nbsp;&nbsp;&nbsp;&nbsp;&nbsp;&nbsp;&nbsp;cit003anrt-Air-Quality-Measurements-PM-25\n",
        "#@markdown \n",
        "#@markdown Data diperbarui beberapa kali sehari. Karena lokasi penghitungan memiliki waktu tertentu yang disertakan dan dilaporkan sebagai bidang tanggal, Anda dapat memfilter berdasarkan jam dan tanggal. Pertama, Anda harus melihat semua kolom untuk mengetahui kolom mana yang memberikan informasi tanggal.\n",
        "#@markdown ###Masukkan API query di bawah ini dan jalankan pernyataan SQL untuk melihat hasilnya.\n",
        "query =\"\" #@param {type:\"string\"}\n",
        "sql_query = urllib.parse.quote(query)\n",
        "url = 'https://api.resourcewatch.org/query?sql={}'.format(sql_query)\n",
        "print('Data Query Link: {}'.format(url))\n",
        "download_url = 'https://api.resourcewatch.org/download?sql={}'.format(sql_query)\n",
        "print('Data Download Link: {}'.format(download_url))\n",
        "\n",
        "r = requests.get(url)\n",
        "\n",
        "if r.status_code == 200:\n",
        "  df = pd.DataFrame.from_dict(r.json()['data'])\n",
        "  print(\"Hasil query:\")\n",
        "  display(df)\n",
        "#@markdown &nbsp;&nbsp;&nbsp;&nbsp;&nbsp; **Queries yang disarankan**:\n",
        "#@markdown \n",
        "#@markdown &nbsp;&nbsp;&nbsp;&nbsp;&nbsp;&nbsp;&nbsp;&nbsp;&nbsp;&nbsp;&nbsp; SELECT * FROM cit003anrt-Air-Quality-Measurements-PM-25 LIMIT 2"
      ],
      "execution_count": 0,
      "outputs": []
    },
    {
      "cell_type": "code",
      "metadata": {
        "id": "l25LtLXeBfi8",
        "colab_type": "code",
        "cellView": "form",
        "colab": {}
      },
      "source": [
        "\n",
        "#@markdown ##Memfilter berdasarkan waktu (lanjutan)\n",
        "#@markdown Anda dapat melihat bahwa kolom 'utc' memiliki informasi tanggal dari dataset ini. Filter semua pengukuran dari tanggal 2019-07-22 pada pukul 18:00:00 UTC dan cetak lima hasil pertama. Untuk contoh ini, Anda juga akan memilih bagian kolom yang lebih bermanfaat.\n",
        "#@markdown ###Masukkan API query di bawah ini dan jalankan pernyataan SQL untuk melihat hasilnya.\n",
        "query =\"\" #@param {type:\"string\"}\n",
        "sql_query = urllib.parse.quote(query)\n",
        "url = 'https://api.resourcewatch.org/query?sql={}'.format(sql_query)\n",
        "print('Data Query Link: {}'.format(url))\n",
        "download_url = 'https://api.resourcewatch.org/download?sql={}'.format(sql_query)\n",
        "print('Data Download Link: {}'.format(download_url))\n",
        "\n",
        "r = requests.get(url)\n",
        "\n",
        "if r.status_code == 200:\n",
        "  df = pd.DataFrame.from_dict(r.json()['data'])\n",
        "  print(\"Hasil query:\")\n",
        "  display(df)\n",
        "#@markdown &nbsp;&nbsp;&nbsp;&nbsp;&nbsp; **Queries yang disarankan**:\n",
        "#@markdown \n",
        "#@markdown SELECT city, country, location, ppm, unit, utc FROM cit003anrt-Air-Quality-Measurements-PM-25 WHERE utc = '2019-07-22T18:00:00Z' LIMIT 5"
      ],
      "execution_count": 0,
      "outputs": []
    },
    {
      "cell_type": "markdown",
      "metadata": {
        "id": "T8qLEi5mEgz4",
        "colab_type": "text"
      },
      "source": [
        "#Tutorial Berikutnya"
      ]
    },
    {
      "cell_type": "code",
      "metadata": {
        "id": "2h0sDp89SX9r",
        "colab_type": "code",
        "cellView": "form",
        "colab": {}
      },
      "source": [
        "#@markdown ##Memfilter data kosong"
      ],
      "execution_count": 0,
      "outputs": []
    },
    {
      "cell_type": "code",
      "metadata": {
        "id": "s4S47qi19_RC",
        "colab_type": "code",
        "cellView": "form",
        "colab": {}
      },
      "source": [
        "#@markdown ##Memfilter saat nilai data memiliki spasi atau salah ketik\n",
        "\n"
      ],
      "execution_count": 0,
      "outputs": []
    },
    {
      "cell_type": "code",
      "metadata": {
        "id": "GPR14lPM9_ZQ",
        "colab_type": "code",
        "cellView": "form",
        "colab": {}
      },
      "source": [
        "#@markdown ##Mencocokkan tabel dengan shapefile negara WRI\n"
      ],
      "execution_count": 0,
      "outputs": []
    },
    {
      "cell_type": "markdown",
      "metadata": {
        "id": "Fy-p0i_0DOFt",
        "colab_type": "text"
      },
      "source": [
        "Apabila Anda ingin membahas di luar tutorial ini dan mempelajari SQL queries secara lebih mendalam, lihat dokumentasi sumber di sini: https://www.postgresql.org/."
      ]
    }
  ]
}