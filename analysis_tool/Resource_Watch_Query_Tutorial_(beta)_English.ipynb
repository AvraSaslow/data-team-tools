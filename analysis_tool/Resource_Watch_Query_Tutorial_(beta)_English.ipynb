{
  "nbformat": 4,
  "nbformat_minor": 0,
  "metadata": {
    "colab": {
      "name": "Resource Watch Query Tutorial (beta) - English.ipynb",
      "provenance": [],
      "collapsed_sections": []
    },
    "kernelspec": {
      "name": "python3",
      "display_name": "Python 3"
    }
  },
  "cells": [
    {
      "cell_type": "markdown",
      "metadata": {
        "id": "VFUeqi9U-CEq",
        "colab_type": "text"
      },
      "source": [
        "![alt text][logo]\n",
        "\n",
        "[logo]:https://wri-public-data.s3.amazonaws.com/resourcewatch/18_LOGO_ResourceWatch/18_LOGO_ResourceWatch_PB.png \"Logo Title Text 2\""
      ]
    },
    {
      "cell_type": "markdown",
      "metadata": {
        "id": "uox1QfaDc17e",
        "colab_type": "text"
      },
      "source": [
        "#Resource Watch Query Tutorial"
      ]
    },
    {
      "cell_type": "code",
      "metadata": {
        "id": "59R0QT8wKfA3",
        "colab_type": "code",
        "colab": {}
      },
      "source": [
        "#@title # **Set-up Tool** { display-mode: \"form\" }\n",
        "#@markdown ###Push the play button on the left to set-up the tool for your analysis.\n",
        "import urllib\n",
        "import urllib.parse\n",
        "import requests\n",
        "import pandas as pd\n",
        "print('Done installing modules!')\n",
        "print('You can move on to the next cell.')"
      ],
      "execution_count": 0,
      "outputs": []
    },
    {
      "cell_type": "markdown",
      "metadata": {
        "id": "IQAA1CmwAM9l",
        "colab_type": "text"
      },
      "source": [
        "# Overview\n",
        "This open-source Resource Watch analysis tool allows you to quickly and easily look at entire datasets hosted on the platform, or specific parts of a datasets. You can also pull out simple statistics from the data on a global-level, or within your region of interest.\n",
        "The tool leverages the Resource Watch Application Programming Interface or API, which is the back-end infrastructure of the website, resourcewatch.org, that enables the sharing, visualizing and analysis of hundreds of datasets.\n",
        "<br><br>\n",
        "This tool is a tutorial version of the full tool, and uses a series of examples to teach you the necessary fundamentals of writing Resource Watch API queries. The API queries are based on a database management system called PostgreSQL, which is an open-source version of Structured Query Language (SQL).\n",
        "<br><br>\n",
        "In order to make any query to the API, you must have two main pieces of information: the Resource Watch dataset ID and an SQL statement indicating what information you want from the dataset. First, you will want to navigate to https://resourcewatch.org, then click on the “Explore data” button on the front page. In the “Explore” page, you can search for different datasets that you can use in this data analysis tool.\n"
      ]
    },
    {
      "cell_type": "markdown",
      "metadata": {
        "id": "O2XsfcVbNd3W",
        "colab_type": "text"
      },
      "source": [
        "#Getting the Dataset ID"
      ]
    },
    {
      "cell_type": "markdown",
      "metadata": {
        "id": "mYFDAOHlNgUK",
        "colab_type": "text"
      },
      "source": [
        "The dataset ID is the first piece of information that you need to do an analysis using this tool. The dataset ID can be found on the dataset's metadata page. Every dataset on Resource Watch has its own dedicated metadata page. There are two ways to navigate to the metadata page from the Explore catalog:\n",
        "\n",
        "1) You can click on the 'Details' button on the dataset's card in the Explore catalog.\n",
        "\n",
        "![alt text][sshot1]\n",
        "\n",
        "[sshot1]:http://wri-public-data.s3.amazonaws.com/resourcewatch/Screenshots/Indonesia%20Workshop/Details.png\n",
        "\n",
        "2) If the dataset has been added to your map in Explore, you can click on the 'i' button in the legend, then click on the 'More info' button in the pop-up.\n",
        "\n",
        "![alt text][sshot2]\n",
        "\n",
        "[sshot2]:http://wri-public-data.s3.amazonaws.com/resourcewatch/Screenshots/Indonesia%20Workshop/Layer%20Info.png\n",
        "\n",
        "![alt text][sshot3]\n",
        "\n",
        "[sshot3]:http://wri-public-data.s3.amazonaws.com/resourcewatch/Screenshots/Indonesia%20Workshop/More%20Info.png\n",
        "\n",
        "Once you have navigated to a dataset's metadata page, you can get the dataset ID from the end of the url: resourcewatch.org/data/explore/{dataset_id}. You will be copying and pasting this ID  into the tool later, so keep this tab open.\n",
        "\n",
        "![alt text][sshot4]\n",
        "\n",
        "[sshot4]:http://wri-public-data.s3.amazonaws.com/resourcewatch/Screenshots/Indonesia%20Workshop/Dataset%20ID.png"
      ]
    },
    {
      "cell_type": "markdown",
      "metadata": {
        "id": "EM5G_Sl97eMP",
        "colab_type": "text"
      },
      "source": [
        "# Getting Started with SQL"
      ]
    },
    {
      "cell_type": "markdown",
      "metadata": {
        "id": "D15b3XaRNSjv",
        "colab_type": "text"
      },
      "source": [
        "All of the vector datasets on Resource Watch are stored in tables with rows and columns. The column names indicate what information is being stored in the table, and each row represents a particular geography. The data stored in the table can be of four types: text (also called a string), number, geometry, or date (also called a timestamp). Each column must be labeled as one of those four types, and that column can only store that type of information. Note that string/text columns can store both text and numbers, but statistics can only be calculated for a column that is designated as a number column.\n",
        "\n",
        "You can see an example of one of these tables in the screenshot, below. Note that below the name of each column, the column type is indicated.\n",
        "\n",
        "![alt text][sshot4]\n",
        "\n",
        "[sshot4]:http://wri-public-data.s3.amazonaws.com/resourcewatch/Screenshots/Indonesia%20Workshop/Carto%20table.png\n",
        "\n",
        "As we mentioned above, SQL is a database management system. SQL is the language that we use to pull specific pieces of information from a table like this. For example, if I only wanted to see data from one location or if I only wanted to see values that fell above a certain threshold, I could use SQL to pull this information without having to search through the whole table and find it manually. This is especially helpful when working with datasets that have thousands of rows of data that we could not possibly search through on our own!\n",
        "\n",
        "We will start by learning about the structure of SQL queries and how to pull specific subsets of information. Once we have these fundamentals down, we will end by learning how to calculate statistics to help us pull meaningful information out of large datasets."
      ]
    },
    {
      "cell_type": "code",
      "metadata": {
        "colab_type": "code",
        "id": "XPi-NEhLeuWO",
        "cellView": "form",
        "colab": {}
      },
      "source": [
        "#@markdown ##Basic Queries\n",
        "#@markdown \n",
        "#@markdown All SQL queries have a basic structure that you must start with:\n",
        "#@markdown \n",
        "#@markdown &nbsp;&nbsp;&nbsp;&nbsp;&nbsp;&nbsp;&nbsp;&nbsp; SELECT {columns} FROM {table_name}\n",
        "#@markdown \n",
        "#@markdown where {table_name} should be replaced by the name of the table storing your dataset of interest. For the Resource Watch API, the dataset ID can be used as the {table_name}. Replace {columns} with the names of the specific columns within that dataset that you want to see. There are two options for selecting the columns that you are interested in: you could select all of them, or you could select a specific subset of them. To select all of the columns, you can replace {columns} with an asterisk (*). To select a subset of them, replace {columns} with the names of the columns of interest, separated by commas (for example: country, level, value).\n",
        "#@markdown \n",
        "#@markdown \n",
        "#@markdown ###Example:\n",
        "#@markdown \n",
        "#@markdown Let's pull in an example dataset to practice. You will work with the Global Power Plant Database, which has the following dataset ID: \n",
        "#@markdown \n",
        "#@markdown &nbsp;&nbsp;&nbsp;&nbsp;&nbsp;&nbsp;&nbsp;&nbsp; Powerwatch\n",
        "#@markdown \n",
        "#@markdown Your basic SQL query would be:\n",
        "#@markdown \n",
        "#@markdown &nbsp;&nbsp;&nbsp;&nbsp;&nbsp;&nbsp;&nbsp;&nbsp; SELECT * FROM Powerwatch\n",
        "#@markdown \n",
        "#@markdown This SQL query would return the entire table of data (all of the columns) within that dataset from the API, which would be very long. If you just want to preview the data, you can limit the number of rows of data that you want to look at. You can limit your results to 5 rows by adding LIMIT 5 to the end of the query. This query would be:\n",
        "#@markdown \n",
        "#@markdown &nbsp;&nbsp;&nbsp;&nbsp;&nbsp;&nbsp;&nbsp;&nbsp; SELECT * FROM Powerwatch LIMIT 5\n",
        "#@markdown \n",
        "#@markdown You can change that 5 to a different number if you would like to see a different number of rows, or you can delete it all together if you want to see the entire table of data.\n",
        "#@markdown \n",
        "#@markdown \n",
        "\n",
        "#@markdown ###Enter your API query below and run this SQL code to see the result.\n",
        "\n",
        "query =\"\" #@param {type:\"string\"}\n",
        "sql_query = urllib.parse.quote(query)\n",
        "url = 'https://api.resourcewatch.org/query?sql={}'.format(sql_query)\n",
        "print('Data Query Link: {}'.format(url))\n",
        "\n",
        "  \n",
        "r = requests.get(url)\n",
        "\n",
        "if r.status_code == 200:\n",
        "  download_url = 'https://api.resourcewatch.org/download?sql={}'.format(sql_query)\n",
        "  print('Data Download Link: {}'.format(download_url))\n",
        "  df = pd.DataFrame.from_dict(r.json()['data'])\n",
        "  print(\"Results of query:\")\n",
        "  display(df)\n",
        "else:\n",
        "  print('Something went wrong. Please check that your dataset ID and SQL Query are correct, then run the cell again.')\n",
        "  print('If you continue to get this error, try limiting your request by adding a LIMIT to the end.')  \n",
        "#@markdown &nbsp;&nbsp;&nbsp;&nbsp;&nbsp; **Suggested queries**:\n",
        "#@markdown \n",
        "#@markdown &nbsp;&nbsp;&nbsp;&nbsp;&nbsp;&nbsp;&nbsp;&nbsp;&nbsp;&nbsp;&nbsp; SELECT * FROM Powerwatch\n",
        "#@markdown <br>\n",
        "#@markdown &nbsp;&nbsp;&nbsp;&nbsp;&nbsp;&nbsp;&nbsp;&nbsp;&nbsp;&nbsp;&nbsp; SELECT * FROM Powerwatch LIMIT 5\n",
        "#@markdown \n",
        "#@markdown You can change the query in the field above and run the cell again to change your result. Try changing the limit on the number of rows to see how the result changes.\n",
        "#@markdown \n",
        "#@markdown **Note**: You have limited the results to only the first 5 rows so that you do not print thousands of rows on your screen. If you click on the 'Data Download Link' on a query like this, you will only be downloading the first 5 rows. This tool will give you only what you ask for. If you want to do an analysis on sections of the data or download the full results of your query, please be sure to remove the limit from your query."
      ],
      "execution_count": 0,
      "outputs": []
    },
    {
      "cell_type": "code",
      "metadata": {
        "id": "miyPIxw8JHzD",
        "colab_type": "code",
        "cellView": "form",
        "colab": {}
      },
      "source": [
        "#@markdown ##Selecting specific columns\n",
        "#@markdown The queries you just ran provided a preview of the Global Powerplant Database. You may notice that some of the columns contain information that isn’t useful for an analysis. You can ignore these columns and focus on the columns that contain useful information by replacing the * with the names of the columns that you are interested in viewing. You can just look at the columns for country, level, region, value, and year, by using the following SQL query:\n",
        "#@markdown \n",
        "#@markdown &nbsp;&nbsp;&nbsp;&nbsp;&nbsp;&nbsp;&nbsp;&nbsp; SELECT name, primary_fuel, country_long, commissioning_year, capacity_mw FROM Powerwatch LIMIT 5\n",
        "\n",
        "\n",
        "#@markdown ###Enter your API query below and run this SQL code to see the result.\n",
        "\n",
        "query =\"\" #@param {type:\"string\"}\n",
        "sql_query = urllib.parse.quote(query)\n",
        "url = 'https://api.resourcewatch.org/query?sql={}'.format(sql_query)\n",
        "print('Data Query Link: {}'.format(url))\n",
        "\n",
        "  \n",
        "r = requests.get(url)\n",
        "\n",
        "if r.status_code == 200:\n",
        "  download_url = 'https://api.resourcewatch.org/download?sql={}'.format(sql_query)\n",
        "  print('Data Download Link: {}'.format(download_url))\n",
        "  df = pd.DataFrame.from_dict(r.json()['data'])\n",
        "  print(\"Results of query:\")\n",
        "  display(df)\n",
        "else:\n",
        "  print('Something went wrong. Please check that your dataset ID and SQL Query are correct, then run the cell again.')\n",
        "  print('If you continue to get this error, try limiting your request by adding a LIMIT to the end.')  \n",
        "  \n",
        "#@markdown &nbsp;&nbsp;&nbsp;&nbsp;&nbsp; **Suggested queries**:\n",
        "#@markdown \n",
        "#@markdown &nbsp;&nbsp;&nbsp;&nbsp;&nbsp;&nbsp;&nbsp;&nbsp;&nbsp;&nbsp;&nbsp; SELECT name, primary_fuel, country_long, commissioning_year, capacity_mw FROM Powerwatch LIMIT 5"
      ],
      "execution_count": 0,
      "outputs": []
    },
    {
      "cell_type": "markdown",
      "metadata": {
        "id": "fRLAJMmeNKlm",
        "colab_type": "text"
      },
      "source": [
        "#Filtering"
      ]
    },
    {
      "cell_type": "code",
      "metadata": {
        "colab_type": "code",
        "cellView": "form",
        "id": "_M1C1xheLMgA",
        "colab": {}
      },
      "source": [
        "#@markdown ## Basic Filtering\n",
        "#@markdown Now that you know how to use this tool to pull data from the API, you will now learn how to filter out a subset of the data so you only see the sections that are relevant to your research. WHERE clauses can be added on to an SQL statement to filter out data points that fall within certain conditions. These conditions get added on to the end of your basic SQL statement:\n",
        "#@markdown \n",
        "#@markdown &nbsp;&nbsp;&nbsp;&nbsp;&nbsp;&nbsp;&nbsp;&nbsp; SELECT {columns} FROM\n",
        "#@markdown {table_name} WHERE {condition}\n",
        "#@markdown ###Example:\n",
        "\n",
        "#@markdown You might notice that the example dataset contains data from all over the world. If you are only interested in looking at data from Indonesia, you can use the 'country_long' column to pull only the data that is from Indonesia. You just need to add on a condition to your SQL query, WHERE country_long= 'Indonesia' The full query now looks like this:\n",
        "#@markdown \n",
        "#@markdown &nbsp;&nbsp;&nbsp;&nbsp;&nbsp;&nbsp;&nbsp;&nbsp; SELECT name, primary_fuel, country_long, commissioning_year, capacity_mw FROM Powerwatch WHERE country_long = 'Indonesia' LIMIT 5\n",
        "#@markdown \n",
        "#@markdown The SQL query above is structured as:\n",
        "#@markdown \n",
        "#@markdown &nbsp;&nbsp;&nbsp;&nbsp;&nbsp;&nbsp;&nbsp;&nbsp; SELECT {columns} FROM {table_name} WHERE {column_name} = {value}\n",
        "#@markdown\n",
        "#@markdown In the query above, the equals sign (=) is known as a comparison operator. You don't always have to use equals (=) as your comparison operator. When dealing with a column containing numbers, you can also use comparison operators such as greater than (>), greater than or equal to (>=), less than (<), less than or equal to (<=), or not equal to (!=). If you wanted to find all the data that had a capacity greater than or equal to 100 megawatts (MW), you could do it with the following query:\n",
        "#@markdown\n",
        "#@markdown &nbsp;&nbsp;&nbsp;&nbsp;&nbsp;&nbsp;&nbsp;&nbsp; SELECT name, primary_fuel, country_long, commissioning_year, capacity_mw FROM Powerwatch WHERE capacity_mw>=100 LIMIT 5\n",
        "#@markdown\n",
        "#@markdown ###Enter your API query below and run this SQL code to see the result.\n",
        "\n",
        "query =\"\" #@param {type:\"string\"}\n",
        "sql_query = urllib.parse.quote(query)\n",
        "url = 'https://api.resourcewatch.org/query?sql={}'.format(sql_query)\n",
        "print('Data Query Link: {}'.format(url))\n",
        "\n",
        "  \n",
        "r = requests.get(url)\n",
        "\n",
        "if r.status_code == 200:\n",
        "  download_url = 'https://api.resourcewatch.org/download?sql={}'.format(sql_query)\n",
        "  print('Data Download Link: {}'.format(download_url))\n",
        "  df = pd.DataFrame.from_dict(r.json()['data'])\n",
        "  print(\"Results of query:\")\n",
        "  display(df)\n",
        "else:\n",
        "  print('Something went wrong. Please check that your dataset ID and SQL Query are correct, then run the cell again.')\n",
        "  print('If you continue to get this error, try limiting your request by adding a LIMIT to the end.')  \n",
        "#@markdown &nbsp;&nbsp;&nbsp;&nbsp;&nbsp; **Suggested queries**:\n",
        "#@markdown \n",
        "#@markdown &nbsp;&nbsp;&nbsp;&nbsp;&nbsp;&nbsp;&nbsp;&nbsp;&nbsp;&nbsp;&nbsp; SELECT name, primary_fuel, country_long, commissioning_year, capacity_mw FROM Powerwatch WHERE country_long = 'Indonesia' LIMIT 5\n",
        "#@markdown <br>\n",
        "#@markdown &nbsp;&nbsp;&nbsp;&nbsp;&nbsp;&nbsp;&nbsp;&nbsp;&nbsp;&nbsp;&nbsp; SELECT name, primary_fuel, country_long, commissioning_year, capacity_mw FROM Powerwatch WHERE capacity_mw>=100 LIMIT 5\n",
        "#@markdown <br>\n",
        "\n",
        "#@markdown **Note**: When filtering data with an SQL query, column names (such as country_long) do not need to be written in quotes, but the values (such as Indonesia) often do. When filtering a column that is text or a date/timestamp, the value you are looking for must be inside of single quotes (ex: ‘New York’). However, you do not need to put the value in quotes if it is a number."
      ],
      "execution_count": 0,
      "outputs": []
    },
    {
      "cell_type": "code",
      "metadata": {
        "id": "lH6ZUhqz9_OH",
        "colab_type": "code",
        "cellView": "form",
        "colab": {}
      },
      "source": [
        "#@markdown ##Filtering by multiple values\n",
        "#@markdown Filtering by ‘Indonesia’ allows you to simplify the data you are looking at, allowing you to more easily analyze the data you care about. However, the results you got using this filter may still contain too much information to compare at one time. You can see in the 'primary_fuel' column that there are many different types of power plants included in this database. There are also many other columns that you could use to focus your analysis on a particular part of the data that is of interest. You can add on more filters so that you can pull out a smaller part of the data to focus on. To add multiple conditions to your WHERE clause, join them with AND, like this:\n",
        "\n",
        "#@markdown &nbsp;&nbsp;&nbsp;&nbsp;&nbsp;&nbsp;&nbsp;&nbsp; SELECT {columns} FROM\n",
        "#@markdown {table_name} WHERE {condition1} AND {condition2} AND {condition3}\n",
        "\n",
        "#@markdown You can add as many conditions as you would like when filtering data.\n",
        "#@markdown ###Example 1:\n",
        "#@markdown If you wanted to view only the coal power plants in Indonesia, you could use the following SQL query:\n",
        "#@markdown \n",
        "#@markdown &nbsp;&nbsp;&nbsp;&nbsp;&nbsp;&nbsp;&nbsp;&nbsp; SELECT name, primary_fuel, country_long, commissioning_year, capacity_mw FROM Powerwatch WHERE country_long='Indonesia' AND primary_fuel='Coal' LIMIT 5\n",
        "#@markdown ###Example 2:\n",
        "#@markdown Now, if you wanted to only view those coal power plants in Indonesia with a capacity over 100 MW, you could modify your SQL query to be:\n",
        "#@markdown \n",
        "#@markdown &nbsp;&nbsp;&nbsp;&nbsp;&nbsp;&nbsp;&nbsp;&nbsp; SELECT name, primary_fuel, country_long, commissioning_year, capacity_mw FROM Powerwatch WHERE country_long='Indonesia' AND primary_fuel='Coal' AND capacity_mw>100 LIMIT 5\n",
        "#@markdown ###Enter your API query below and run this SQL code to see the result.\n",
        "\n",
        "query =\"\" #@param {type:\"string\"}\n",
        "sql_query = urllib.parse.quote(query)\n",
        "url = 'https://api.resourcewatch.org/query?sql={}'.format(sql_query)\n",
        "print('Data Query Link: {}'.format(url))\n",
        "\n",
        "  \n",
        "r = requests.get(url)\n",
        "\n",
        "if r.status_code == 200:\n",
        "  download_url = 'https://api.resourcewatch.org/download?sql={}'.format(sql_query)\n",
        "  print('Data Download Link: {}'.format(download_url))\n",
        "  df = pd.DataFrame.from_dict(r.json()['data'])\n",
        "  print(\"Results of query:\")\n",
        "  display(df)\n",
        "else:\n",
        "  print('Something went wrong. Please check that your dataset ID and SQL Query are correct, then run the cell again.')\n",
        "  print('If you continue to get this error, try limiting your request by adding a LIMIT to the end.')  \n",
        "  \n",
        "#@markdown &nbsp;&nbsp;&nbsp;&nbsp;&nbsp; **Suggested queries**:\n",
        "#@markdown \n",
        "#@markdown &nbsp;&nbsp;&nbsp;&nbsp;&nbsp;&nbsp;&nbsp;&nbsp;&nbsp;&nbsp;&nbsp; SELECT name, primary_fuel, country_long, commissioning_year, capacity_mw FROM Powerwatch WHERE country_long='Indonesia' AND primary_fuel='Coal' AND capacity_mw>100 LIMIT 5\n",
        "#@markdown <br>\n",
        "#@markdown &nbsp;&nbsp;&nbsp;&nbsp;&nbsp;&nbsp;&nbsp;&nbsp;&nbsp;&nbsp;&nbsp; SELECT name, primary_fuel, country_long, commissioning_year, capacity_mw FROM Powerwatch WHERE country_long='Indonesia' AND primary_fuel='Coal' AND capacity_mw>100 LIMIT 5"
      ],
      "execution_count": 0,
      "outputs": []
    },
    {
      "cell_type": "markdown",
      "metadata": {
        "id": "JvG6IxAqIAry",
        "colab_type": "text"
      },
      "source": [
        "#Ordering"
      ]
    },
    {
      "cell_type": "code",
      "metadata": {
        "id": "hkOw11VcViF0",
        "colab_type": "code",
        "cellView": "form",
        "colab": {}
      },
      "source": [
        "#@markdown ##Ordering your results\n",
        "#@markdown Now that you know how to filter out just the coal power plants in Indonesia, maybe you want to see the biggest and smallest of these plants. To do that you can order your SQL query by adding an ORDER BY clause.\n",
        "#@markdown ###Example:\n",
        "#@markdown You can see that there is a column called 'capacity_mw' which is storing the capacity of these power plants. You have already filtered out the data this is of interest to you (coal power plants in Indonesia). Now you can order them by the 'capacity_mw' column. In order to see the results, with the highest capacity at the top, you will order them to be descending (DESC) in value, getting lower as you go down. To do so you could use the following SQL clause:\n",
        "#@markdown \n",
        "#@markdown &nbsp;&nbsp;&nbsp;&nbsp;&nbsp;&nbsp;&nbsp;&nbsp; SELECT name, primary_fuel, country_long, commissioning_year, capacity_mw FROM Powerwatch WHERE country_long='Indonesia' AND primary_fuel='Coal' ORDER BY capacity_mw DESC LIMIT 10\n",
        "\n",
        "#@markdown Similarly, if you wanted to see the lowest capacity coal power plants in Indonesia, you could have ordered the 'capacity_mw' column in ascending (ASC) order so that you saw the lowest capacity at the top, getting higher as you go down. In this case, you would use this SQL clause:\n",
        "#@markdown \n",
        "#@markdown &nbsp;&nbsp;&nbsp;&nbsp;&nbsp;&nbsp;&nbsp;&nbsp; SELECT name, primary_fuel, country_long, commissioning_year, capacity_mw FROM Powerwatch WHERE country_long='Indonesia' AND primary_fuel='Coal' ORDER BY capacity_mw ASC LIMIT 10\n",
        "#@markdown ###Enter your API query below and run this SQL code to see the result.\n",
        "\n",
        "query =\"\" #@param {type:\"string\"}\n",
        "sql_query = urllib.parse.quote(query)\n",
        "url = 'https://api.resourcewatch.org/query?sql={}'.format(sql_query)\n",
        "print('Data Query Link: {}'.format(url))\n",
        "\n",
        "  \n",
        "r = requests.get(url)\n",
        "\n",
        "if r.status_code == 200:\n",
        "  download_url = 'https://api.resourcewatch.org/download?sql={}'.format(sql_query)\n",
        "  print('Data Download Link: {}'.format(download_url))\n",
        "  df = pd.DataFrame.from_dict(r.json()['data'])\n",
        "  print(\"Results of query:\")\n",
        "  display(df)\n",
        "else:\n",
        "  print('Something went wrong. Please check that your dataset ID and SQL Query are correct, then run the cell again.')\n",
        "  print('If you continue to get this error, try limiting your request by adding a LIMIT to the end.')  \n",
        "#@markdown &nbsp;&nbsp;&nbsp;&nbsp;&nbsp; **Suggested queries**:\n",
        "#@markdown \n",
        "#@markdown &nbsp;&nbsp;&nbsp;&nbsp;&nbsp;&nbsp;&nbsp;&nbsp;&nbsp;&nbsp;&nbsp; SELECT name, primary_fuel, country_long, commissioning_year, capacity_mw FROM Powerwatch WHERE country_long='Indonesia' AND primary_fuel='Coal' ORDER BY capacity_mw DESC LIMIT 10 \n",
        "#@markdown <br>\n",
        "#@markdown &nbsp;&nbsp;&nbsp;&nbsp;&nbsp;&nbsp;&nbsp;&nbsp;&nbsp;&nbsp;&nbsp; SELECT name, primary_fuel, country_long, commissioning_year, capacity_mw FROM Powerwatch WHERE country_long='Indonesia' AND primary_fuel='Coal' ORDER BY capacity_mw ASC LIMIT 10"
      ],
      "execution_count": 0,
      "outputs": []
    },
    {
      "cell_type": "markdown",
      "metadata": {
        "id": "3ilxjftXMqPo",
        "colab_type": "text"
      },
      "source": [
        "#Calculating Statistics"
      ]
    },
    {
      "cell_type": "code",
      "metadata": {
        "id": "t1CSjyEaLN-r",
        "colab_type": "code",
        "cellView": "form",
        "colab": {}
      },
      "source": [
        "#@markdown You have now seen how to write a query to filter out a specific part of a dataset that you are interested in viewing. You already have an SQL statement that filters out the coal power plants in Indonesia:\n",
        "\n",
        "#@markdown &nbsp;&nbsp;&nbsp;&nbsp;&nbsp;&nbsp;&nbsp;&nbsp; SELECT name, primary_fuel, country_long, commissioning_year, capacity_mw FROM Powerwatch WHERE country_long='Indonesia' AND primary_fuel='Coal' \n",
        "\n",
        "#@markdown Instead of viewing a list of all the coal power plants in Indonesia, maybe you are just interested in finding the average capacity of coal power plants in Indonesia. To do that,  you can just pull the average of one column using the AVG() function rather than leaving all columns selected. For this example, we’re interested in the capacity, which is stored in the 'capacity_mw' column.\n",
        "#@markdown\n",
        "#@markdown You will start with the query you just used to filter out the correct location and times, but instead of using SELECT * you can use SELECT AVG(ppm).\n",
        "\n",
        "#@markdown ###Enter your API query below and run this SQL code to see the result.\n",
        "\n",
        "query =\"\" #@param {type:\"string\"}\n",
        "sql_query = urllib.parse.quote(query)\n",
        "url = 'https://api.resourcewatch.org/query?sql={}'.format(sql_query)\n",
        "print('Data Query Link: {}'.format(url))\n",
        "\n",
        "  \n",
        "r = requests.get(url)\n",
        "\n",
        "if r.status_code == 200:\n",
        "  download_url = 'https://api.resourcewatch.org/download?sql={}'.format(sql_query)\n",
        "  print('Data Download Link: {}'.format(download_url))\n",
        "  df = pd.DataFrame.from_dict(r.json()['data'])\n",
        "  print(\"Results of query:\")\n",
        "  display(df)\n",
        "else:\n",
        "  print('Something went wrong. Please check that your dataset ID and SQL Query are correct, then run the cell again.')\n",
        "  print('If you continue to get this error, try limiting your request by adding a LIMIT to the end.')  \n",
        "#@markdown &nbsp;&nbsp;&nbsp;&nbsp;&nbsp; **Suggested queries**:\n",
        "#@markdown \n",
        "#@markdown &nbsp;&nbsp;&nbsp;&nbsp;&nbsp;&nbsp;&nbsp;&nbsp;&nbsp;&nbsp;&nbsp; SELECT AVG(capacity_mw) FROM Powerwatch WHERE country_long='Indonesia' AND primary_fuel='Coal'"
      ],
      "execution_count": 0,
      "outputs": []
    },
    {
      "cell_type": "code",
      "metadata": {
        "id": "SJH5df43HR2_",
        "colab_type": "code",
        "cellView": "form",
        "colab": {}
      },
      "source": [
        "#@markdown ##Other Statistics\n",
        "#@markdown The average (AVG) is not the only statistic you can calculate from a table. You can also calculate the maximum (MAX), minimum (MIN), sum (SUM), or you could count how many entries were in your table (COUNT).\n",
        "\n",
        "#@markdown Try calculating some of these other statistics below.\n",
        "\n",
        "#@markdown ###Enter your API query below and run this SQL code to see the result.\n",
        "\n",
        "query =\"\" #@param {type:\"string\"}\n",
        "sql_query = urllib.parse.quote(query)\n",
        "url = 'https://api.resourcewatch.org/query?sql={}'.format(sql_query)\n",
        "print('Data Query Link: {}'.format(url))\n",
        "\n",
        "  \n",
        "r = requests.get(url)\n",
        "\n",
        "if r.status_code == 200:\n",
        "  download_url = 'https://api.resourcewatch.org/download?sql={}'.format(sql_query)\n",
        "  print('Data Download Link: {}'.format(download_url))\n",
        "  df = pd.DataFrame.from_dict(r.json()['data'])\n",
        "  print(\"Results of query:\")\n",
        "  display(df)\n",
        "else:\n",
        "  print('Something went wrong. Please check that your dataset ID and SQL Query are correct, then run the cell again.')\n",
        "  print('If you continue to get this error, try limiting your request by adding a LIMIT to the end.')  \n",
        "#@markdown &nbsp;&nbsp;&nbsp;&nbsp;&nbsp; **Suggested queries**:\n",
        "#@markdown \n",
        "#@markdown &nbsp;&nbsp;&nbsp;&nbsp;&nbsp;&nbsp;&nbsp;&nbsp;&nbsp;&nbsp;&nbsp; SELECT MAX(capacity_mw) FROM Powerwatch WHERE country_long='Indonesia' AND primary_fuel='Coal'\n",
        "#@markdown \n",
        "#@markdown &nbsp;&nbsp;&nbsp;&nbsp;&nbsp;&nbsp;&nbsp;&nbsp;&nbsp;&nbsp;&nbsp; SELECT MIN(capacity_mw) FROM Powerwatch WHERE country_long='Indonesia' AND primary_fuel='Coal'\n",
        "#@markdown \n",
        "#@markdown &nbsp;&nbsp;&nbsp;&nbsp;&nbsp;&nbsp;&nbsp;&nbsp;&nbsp;&nbsp;&nbsp; SELECT COUNT(capacity_mw) FROM Powerwatch WHERE country_long='Indonesia' AND primary_fuel='Coal'\n",
        "#@markdown \n",
        "#@markdown &nbsp;&nbsp;&nbsp;&nbsp;&nbsp;&nbsp;&nbsp;&nbsp;&nbsp;&nbsp;&nbsp; SELECT SUM(capacity_mw) FROM Powerwatch WHERE country_long='Indonesia' AND primary_fuel='Coal'"
      ],
      "execution_count": 0,
      "outputs": []
    },
    {
      "cell_type": "markdown",
      "metadata": {
        "id": "Wyg1RkKWrUXO",
        "colab_type": "text"
      },
      "source": [
        "#Practice"
      ]
    },
    {
      "cell_type": "code",
      "metadata": {
        "id": "gRCPlTyKq_rO",
        "colab_type": "code",
        "cellView": "form",
        "colab": {}
      },
      "source": [
        "#@markdown ##Test Your Knowledge of SQL\n",
        "#@markdown Please write SQL queries to answer the questions below:\n",
        "#@markdown * What is the largest hydroelectric power plant in Indonesia?\n",
        "#@markdown * What is the largest hydroelectric power plant in the world?\n",
        "#@markdown * What is the average capacity of hydroelectric power plants in Indonesia?\n",
        "#@markdown \n",
        "#@markdown ###Enter your API query below and run this SQL code to see the result.\n",
        "\n",
        "query =\"\" #@param {type:\"string\"}\n",
        "sql_query = urllib.parse.quote(query)\n",
        "url = 'https://api.resourcewatch.org/query?sql={}'.format(sql_query)\n",
        "print('Data Query Link: {}'.format(url))\n",
        "\n",
        "  \n",
        "r = requests.get(url)\n",
        "\n",
        "if r.status_code == 200:\n",
        "  download_url = 'https://api.resourcewatch.org/download?sql={}'.format(sql_query)\n",
        "  print('Data Download Link: {}'.format(download_url))\n",
        "  df = pd.DataFrame.from_dict(r.json()['data'])\n",
        "  print(\"Results of query:\")\n",
        "  display(df)\n",
        "else:\n",
        "  print('Something went wrong. Please check that your dataset ID and SQL Query are correct, then run the cell again.')\n",
        "  print('If you continue to get this error, try limiting your request by adding a LIMIT to the end.')  \n"
      ],
      "execution_count": 0,
      "outputs": []
    },
    {
      "cell_type": "markdown",
      "metadata": {
        "id": "TtAkBaqtNrvb",
        "colab_type": "text"
      },
      "source": [
        "#Cheat Sheet\n",
        "This tutorial has provided a basic overview of how to structure SQL queries. Here is a brief review of the SQL queries you learned:\n",
        "\n",
        "**Look at all or some of the columns of a dataset with the basic query**: SELECT {columns} FROM {dataset_id}<br>\n",
        "**Limit the number of rows you see in a dataset**: SELECT {columns} FROM {dataset_id} LIMIT {number_of_rows}<br>\n",
        "**Filter out the data in some of the columns**: SELECT {columns} FROM {table_name} WHERE {column_name} {<, <=, >, >=, =, !=} {value}<br>\n",
        "&nbsp;&nbsp;&nbsp;&nbsp;&nbsp;&nbsp;&nbsp;&nbsp;**Apply multiple filters**: SELECT {columns} FROM {dataset_id} WHERE {condition1} AND {condition2} AND {condition3}<br>\n",
        "&nbsp;&nbsp;&nbsp;&nbsp;&nbsp;&nbsp;&nbsp;&nbsp;**Time filters**: SELECT {columns} FROM {dataset_id} WHERE {datetime_column} {<, <=, >, >=, =, !=} {YYYY-MM-DD}T{HH:MI:SS}Z<br>\n",
        "**Order the dataset by the largest or smallest numbers**: SELECT {columns} FROM {dataset_id} ORDER BY {column_name} {ASC, DESC}<br>\n",
        "**Statistics**: SELECT function({column_name}) FROM {dataset_id}<br>\n",
        "&nbsp;&nbsp;&nbsp;&nbsp;&nbsp;&nbsp;&nbsp;&nbsp; **Functions available**: AVG(), SUM(), MIN(), MAX(), COUNT()\n",
        "\n",
        "You can use these SQL queries to pull data that you are interested in from the Resource Watch API using the Resource Watch Query Tool."
      ]
    },
    {
      "cell_type": "markdown",
      "metadata": {
        "id": "sCimPMpZ4cw0",
        "colab_type": "text"
      },
      "source": [
        "# Optional Tutorials "
      ]
    },
    {
      "cell_type": "code",
      "metadata": {
        "id": "YvjwXfaZ9_UJ",
        "colab_type": "code",
        "cellView": "form",
        "colab": {}
      },
      "source": [
        "#@markdown ##Filtering by time\n",
        "#@markdown Date fields can be filtered the same way any other column is filtered, but special note should be taken to make sure the format is correct. Date fields have the following format: '{date}T{time}Z' where {date} should be replaced by a date in the format YYYY-MM-DD, and {time} should be replaced with a 24-hour clock time in the format HH:MI:SS. The 24-hour clock time is often inCoordinated Universal Time (UTC), but you should always check the source of the dataset to be sure. For example, you could filter the data to show only the information from midnight of July 22, 2019 with this query:\n",
        "\n",
        "#@markdown &nbsp;&nbsp;&nbsp;&nbsp;&nbsp;&nbsp;&nbsp;&nbsp; SELECT {columns} FROM {table_name} WHERE {datetime_column} = '2019-07-22T00:00:00Z'\n",
        "\n",
        "#@markdown Any query without a specified time portion will be assumed to be midnight. So, if you leave off the time portion, this example query will still work, because midnight (T00:00:00Z) is implied:\n",
        "\n",
        "#@markdown &nbsp;&nbsp;&nbsp;&nbsp;&nbsp;&nbsp;&nbsp;&nbsp; SELECT {columns} FROM {table_name} WHERE {datetime_column} = '2019-07-22'\n",
        "#@markdown \n",
        "#@markdown So, if you are looking for any other time other than midnight on a particular day, make sure to include the time portion in your filter. Otherwise, only data from midnight will be pulled.\n",
        "#@markdown \n",
        "#@markdown\n",
        "#@markdown **Note**: Not all datasets contain a date field. You have to inspect the dataset in the preview window to see whether any date field is present before knowing if you can filter it by date. \n",
        "#@markdown ###Example:\n",
        "#@markdown If a dataset has a column that includes time, you can develop queries to analyze datasets by time and date. One example of a dataset that includes data with different time stamps is the Air Quality: PM2.5 Station Measurements dataset, which has the following dataset ID:\n",
        "#@markdown \n",
        "#@markdown &nbsp;&nbsp;&nbsp;&nbsp;&nbsp;&nbsp;&nbsp;&nbsp;cit003anrt-Air-Quality-Measurements-PM-25\n",
        "#@markdown \n",
        "#@markdown It is updated multiple times a day. Because station measurements have a specific time associated with them, reported as a date field, you can filter by time and date. First, you should take a look at all of the columns to see which column has the date field.\n",
        "#@markdown ###Enter your API query below and run this SQL code to see the result.\n",
        "\n",
        "query =\"\" #@param {type:\"string\"}\n",
        "sql_query = urllib.parse.quote(query)\n",
        "url = 'https://api.resourcewatch.org/query?sql={}'.format(sql_query)\n",
        "print('Data Query Link: {}'.format(url))\n",
        "\n",
        "  \n",
        "r = requests.get(url)\n",
        "\n",
        "if r.status_code == 200:\n",
        "  download_url = 'https://api.resourcewatch.org/download?sql={}'.format(sql_query)\n",
        "  print('Data Download Link: {}'.format(download_url))\n",
        "  df = pd.DataFrame.from_dict(r.json()['data'])\n",
        "  print(\"Results of query:\")\n",
        "  display(df)\n",
        "else:\n",
        "  print('Something went wrong. Please check that your dataset ID and SQL Query are correct, then run the cell again.')\n",
        "  print('If you continue to get this error, try limiting your request by adding a LIMIT to the end.')  \n",
        "#@markdown &nbsp;&nbsp;&nbsp;&nbsp;&nbsp; **Suggested queries**:\n",
        "#@markdown \n",
        "#@markdown &nbsp;&nbsp;&nbsp;&nbsp;&nbsp;&nbsp;&nbsp;&nbsp;&nbsp;&nbsp;&nbsp; SELECT * FROM cit003anrt-Air-Quality-Measurements-PM-25 LIMIT 2"
      ],
      "execution_count": 0,
      "outputs": []
    },
    {
      "cell_type": "code",
      "metadata": {
        "id": "l25LtLXeBfi8",
        "colab_type": "code",
        "cellView": "form",
        "colab": {}
      },
      "source": [
        "\n",
        "#@markdown ##Filtering by time (continued)\n",
        "#@markdown You can see that the 'utc' column holds the date information for this dataset. Filter out all the measurements from 2019-07-22 at 18:00:00 UTC and print the first five results. For this example, you will also choose a more useful subset of columns.\n",
        "#@markdown ###Enter your API query below and run this SQL code to see the result.\n",
        "\n",
        "query =\"\" #@param {type:\"string\"}\n",
        "sql_query = urllib.parse.quote(query)\n",
        "url = 'https://api.resourcewatch.org/query?sql={}'.format(sql_query)\n",
        "print('Data Query Link: {}'.format(url))\n",
        "\n",
        "  \n",
        "r = requests.get(url)\n",
        "\n",
        "if r.status_code == 200:\n",
        "  download_url = 'https://api.resourcewatch.org/download?sql={}'.format(sql_query)\n",
        "  print('Data Download Link: {}'.format(download_url))\n",
        "  df = pd.DataFrame.from_dict(r.json()['data'])\n",
        "  print(\"Results of query:\")\n",
        "  display(df)\n",
        "else:\n",
        "  print('Something went wrong. Please check that your dataset ID and SQL Query are correct, then run the cell again.')\n",
        "  print('If you continue to get this error, try limiting your request by adding a LIMIT to the end.')  \n",
        "#@markdown &nbsp;&nbsp;&nbsp;&nbsp;&nbsp; **Suggested queries**:\n",
        "#@markdown \n",
        "#@markdown SELECT city, country, location, ppm, unit, utc FROM cit003anrt-Air-Quality-Measurements-PM-25 WHERE utc = '2019-07-22T18:00:00Z' LIMIT 5"
      ],
      "execution_count": 0,
      "outputs": []
    },
    {
      "cell_type": "markdown",
      "metadata": {
        "id": "T8qLEi5mEgz4",
        "colab_type": "text"
      },
      "source": [
        "#Upcoming Tutorials"
      ]
    },
    {
      "cell_type": "code",
      "metadata": {
        "id": "2h0sDp89SX9r",
        "colab_type": "code",
        "cellView": "form",
        "colab": {}
      },
      "source": [
        "#@markdown ##Filtering out nulls"
      ],
      "execution_count": 0,
      "outputs": []
    },
    {
      "cell_type": "code",
      "metadata": {
        "id": "s4S47qi19_RC",
        "colab_type": "code",
        "cellView": "form",
        "colab": {}
      },
      "source": [
        "#@markdown ##Filtering when data values have whitespace or typos\n",
        "\n"
      ],
      "execution_count": 0,
      "outputs": []
    },
    {
      "cell_type": "code",
      "metadata": {
        "id": "GPR14lPM9_ZQ",
        "colab_type": "code",
        "cellView": "form",
        "colab": {}
      },
      "source": [
        "#@markdown ##Matching tables to WRI country shapefiles\n"
      ],
      "execution_count": 0,
      "outputs": []
    },
    {
      "cell_type": "markdown",
      "metadata": {
        "id": "Fy-p0i_0DOFt",
        "colab_type": "text"
      },
      "source": [
        "If you would like to go beyond this tutorial and learn more advanced SQL queries, check out the source documentation here: https://www.postgresql.org/."
      ]
    }
  ]
}