{
 "cells": [
  {
   "cell_type": "code",
   "execution_count": 1,
   "metadata": {},
   "outputs": [],
   "source": [
    "import altair as alt\n",
    "import ipywidgets as widgets\n",
    "from ipywidgets import interactive, interact, HBox, Layout, VBox, interact_manual\n",
    "from IPython.display import display"
   ]
  },
  {
   "cell_type": "markdown",
   "metadata": {},
   "source": [
    "# Simple Stacked Area Chart\n"
   ]
  },
  {
   "cell_type": "code",
   "execution_count": 2,
   "metadata": {},
   "outputs": [],
   "source": [
    "# replace the url with the url to your data\n",
    "#url = \"https://wri-rw.carto.com/api/v2/sql?q=SELECT origin AS c, date::text AS x, total AS y FROM blog_002a_asylum_requests_country_of_origin WHERE origin IN ('Mexico','Guatemala','China','El Salvador','Honduras','Haiti','India','Colombia', 'Ecuador','Venezuela (Bolivarian Republic of)') AND EXTRACT(YEAR FROM date) < 2018 ORDER BY origin ASC, date ASC\"\n",
    "#url = \"https://wri-rw.carto.com/api/v2/sql?q=SELECT year AS x, value AS y, production_or_use AS c FROM foo_050_fish_capture_and_production WHERE production_or_use IN ('Inland Aquaculture','Marine Aquaculture','Inland Capture','Marine Capture') ORDER BY year ASC, production_or_use!='Marine Capture', production_or_use!='Inland Capture', production_or_use!='Marine Aquaculture', production_or_use!='Inland Aquaculture'\"\n",
    "url = \"https://wri-rw.carto.com/api/v2/sql?q=SELECT datetime as x, yr_data AS y, sector AS c FROM cli_049_rw1_dash_pik_historical_emissions_edit WHERE sector NOT ILIKE 'Total excluding LULUCF'\"\n",
    "\n",
    "data = alt.UrlData(url, format = alt.JsonDataFormat(property='rows'))"
   ]
  },
  {
   "cell_type": "code",
   "execution_count": 3,
   "metadata": {},
   "outputs": [],
   "source": [
    "# run the function \n",
    "def make_stacked_area_chart(x_label, x_variable, x_datatype, x_zero, x_grid, x_format, x_transform, x_tooltip_label, x_tooltip_format, \n",
    "                            y_label, y_variable, y_datatype,  y_zero, y_grid, y_format, y_transform, y_tooltip_label, y_tooltip_format,\n",
    "                           c_label, c_variable, c_datatype, c_tooltip_label, c_tooltip_format):\n",
    "    chart = alt.Chart(data).mark_area().encode(\n",
    "        x=alt.X(\"{}:{}\".format(x_variable, x_datatype), axis=alt.Axis(title=x_label, grid=x_grid, format=x_format), scale=alt.Scale(zero=x_zero)),\n",
    "        y=alt.Y(\"{}:{}\".format(y_variable, y_datatype), axis=alt.Axis(title=y_label, grid=y_grid, format=y_format), scale=alt.Scale(zero=y_zero)),\n",
    "        color=alt.Color(\"{}:{}\".format(c_variable, c_datatype), legend=alt.Legend(title=c_label)),\n",
    "        tooltip=[alt.Tooltip(\"{}:{}\".format(x_variable, x_datatype), title=x_tooltip_label, format=x_tooltip_format),\n",
    "            alt.Tooltip(\"{}:{}\".format(y_variable, y_datatype), title=y_tooltip_label, format=y_tooltip_format),\n",
    "            alt.Tooltip(\"{}:{}\".format(c_variable, c_datatype), title=c_tooltip_label, format=c_tooltip_format)]\n",
    "           ).properties(\n",
    "        width=800,\n",
    "        height=500)\n",
    "    \n",
    "    if x_transform:\n",
    "        chart = chart.transform_calculate(x=x_transform)\n",
    "    \n",
    "    if y_transform:\n",
    "        chart = chart.transform_calculate(y=y_transform)\n",
    "    \n",
    "    display(chart)\n",
    "    \n",
    "    return chart"
   ]
  },
  {
   "cell_type": "code",
   "execution_count": 4,
   "metadata": {
    "scrolled": false
   },
   "outputs": [
    {
     "data": {
      "application/vnd.jupyter.widget-view+json": {
       "model_id": "e2c79ee865fa43c384b108f3a7daa4f6",
       "version_major": 2,
       "version_minor": 0
      },
      "text/plain": [
       "HBox(children=(Output(), Output(), Output()))"
      ]
     },
     "metadata": {},
     "output_type": "display_data"
    },
    {
     "data": {
      "application/vnd.jupyter.widget-view+json": {
       "model_id": "0d0903eaae3642a0a4392f0fc078c37c",
       "version_major": 2,
       "version_minor": 0
      },
      "text/plain": [
       "VBox(children=(Output(),))"
      ]
     },
     "metadata": {},
     "output_type": "display_data"
    }
   ],
   "source": [
    "children = [widgets.Output() for _ in range(4)]\n",
    "control = widgets.HBox(children[:-1]) \n",
    "display(control)\n",
    "output = widgets.VBox([children[-1]])\n",
    "display(output)\n",
    "\n",
    "w = interactive(make_stacked_area_chart,  \n",
    "             {'manual': True},\n",
    "             x_label = 'Year', x_variable = 'year(x)', x_datatype = ['T', 'O', 'N', 'Q', 'G'],  x_zero=False,\n",
    "                x_grid=False, x_format = '', x_transform = '', x_tooltip_label='Year', x_tooltip_format='',\n",
    "             y_label = 'Greenhouse Gas Emissions (tonnes CO2e)', y_variable ='y', y_datatype = ['Q', 'O', 'N', 'T', 'G'], y_zero=False,\n",
    "                y_grid=True, y_format = 's', y_transform = 'datum.y*1000000', y_tooltip_label='Emissions (tonnes CO2e)', y_tooltip_format='.3s',\n",
    "             c_label = 'Sector', c_variable = 'c', c_datatype = ['N', 'O', 'Q', 'T', 'G'], c_tooltip_label='Sector', c_tooltip_format='')\n",
    "    \n",
    "with children[0]:\n",
    "    display(VBox(w.children[:9]))\n",
    "    \n",
    "with children[1]:\n",
    "    display(VBox(w.children[9:18]))\n",
    "    \n",
    "with children[2]:\n",
    "    display(VBox(w.children[18:-1]))\n",
    "    \n",
    "with children[3]:\n",
    "    display(w.children[-1])\n",
    "\n",
    "# For data types, refer to the documentation at https://altair-viz.github.io/user_guide/encoding.html#encoding-data-types\n",
    "# The make_stacked_area_chart function only includes transform_calculate for now\n",
    "# To add more transformations, refer to the documentation at https://altair-viz.github.io/user_guide/transform/index.html\n",
    "# After filling in all the parameters, click the 'Run Interact' button. An empty chart indicates an error has occurred. \n",
    "# In that case, please double check if x_variable, y_variable, and c_variable have been set to the correct values. "
   ]
  }
 ],
 "metadata": {
  "kernelspec": {
   "display_name": "Python 3",
   "language": "python",
   "name": "python3"
  },
  "language_info": {
   "codemirror_mode": {
    "name": "ipython",
    "version": 3
   },
   "file_extension": ".py",
   "mimetype": "text/x-python",
   "name": "python",
   "nbconvert_exporter": "python",
   "pygments_lexer": "ipython3",
   "version": "3.7.7"
  }
 },
 "nbformat": 4,
 "nbformat_minor": 4
}
